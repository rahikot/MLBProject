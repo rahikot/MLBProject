{
  "cells": [
    {
      "cell_type": "code",
      "execution_count": 1,
      "metadata": {
        "id": "ZwnBtdR_wsKD"
      },
      "outputs": [],
      "source": [
        "import torch"
      ]
    },
    {
      "cell_type": "code",
      "execution_count": 2,
      "metadata": {
        "id": "ipC8TFIA8IWn"
      },
      "outputs": [],
      "source": [
        "device = torch.device('cuda' if torch.cuda.is_available() else 'cpu')"
      ]
    },
    {
      "cell_type": "code",
      "execution_count": 3,
      "metadata": {
        "colab": {
          "base_uri": "https://localhost:8080/"
        },
        "id": "agSZPCrKxxeA",
        "outputId": "f755b52a-7389-4858-cf28-6ad045204b57"
      },
      "outputs": [
        {
          "name": "stdout",
          "output_type": "stream",
          "text": [
            "cuda\n"
          ]
        }
      ],
      "source": [
        "print(device)"
      ]
    },
    {
      "cell_type": "code",
      "execution_count": 4,
      "metadata": {
        "id": "YacRBHUoxg6R"
      },
      "outputs": [],
      "source": [
        "import pandas as pd"
      ]
    },
    {
      "cell_type": "code",
      "execution_count": null,
      "metadata": {
        "colab": {
          "base_uri": "https://localhost:8080/"
        },
        "id": "5SzZOW3aycH_",
        "outputId": "7bfc8d63-5ceb-4a44-b120-67140788e339"
      },
      "outputs": [
        {
          "name": "stdout",
          "output_type": "stream",
          "text": [
            "--2024-04-29 16:50:45--  https://www.dropbox.com/scl/fo/vlylepcshq46ytwfdy9bq/AEykvkXwsYY_L4HrdLwFMkU?rlkey=n4s44wyj8wal5inty51vfu1zr\n",
            "Resolving www.dropbox.com (www.dropbox.com)... /bin/bash: line 1: data/: No such file or directory\n",
            "162.125.5.18, 2620:100:601d:18::a27d:512\n",
            "Connecting to www.dropbox.com (www.dropbox.com)|162.125.5.18|:443... connected.\n",
            "HTTP request sent, awaiting response... 302 Found\n",
            "Location: https://uc1f136b276f375b3a5349a348ab.dl.dropboxusercontent.com/zip_download_get/B1VzkIl0DBXEvgFB3L6S_k83OCEEseHJPu3c10M17Ewvl5sPcwkK2lzNSO-F4QedXCteIaxcNNhYFrtyIBwv4wZek-0oPUjLGQcwXYeQn6T2rA# [following]\n",
            "--2024-04-29 16:50:46--  https://uc1f136b276f375b3a5349a348ab.dl.dropboxusercontent.com/zip_download_get/B1VzkIl0DBXEvgFB3L6S_k83OCEEseHJPu3c10M17Ewvl5sPcwkK2lzNSO-F4QedXCteIaxcNNhYFrtyIBwv4wZek-0oPUjLGQcwXYeQn6T2rA\n",
            "Resolving uc1f136b276f375b3a5349a348ab.dl.dropboxusercontent.com (uc1f136b276f375b3a5349a348ab.dl.dropboxusercontent.com)... 162.125.5.15, 2620:100:601d:15::a27d:50f\n",
            "Connecting to uc1f136b276f375b3a5349a348ab.dl.dropboxusercontent.com (uc1f136b276f375b3a5349a348ab.dl.dropboxusercontent.com)|162.125.5.15|:443... connected.\n",
            "HTTP request sent, awaiting response... 200 OK\n",
            "Length: 5312399375 (4.9G) [application/zip]\n",
            "Saving to: ‘AEykvkXwsYY_L4HrdLwFMkU?rlkey=n4s44wyj8wal5inty51vfu1zr’\n",
            "\n",
            "AEykvkXwsYY_L4HrdLw 100%[===================>]   4.95G  55.5MB/s    in 98s     \n",
            "\n",
            "2024-04-29 16:52:25 (51.5 MB/s) - ‘AEykvkXwsYY_L4HrdLwFMkU?rlkey=n4s44wyj8wal5inty51vfu1zr’ saved [5312399375/5312399375]\n",
            "\n"
          ]
        }
      ],
      "source": [
        "!wget https://www.dropbox.com/scl/fo/vlylepcshq46ytwfdy9bq/AEykvkXwsYY_L4HrdLwFMkU?rlkey=n4s44wyj8wal5inty51vfu1zr&st=9vl2ntfi&dl=0 data/"
      ]
    },
    {
      "cell_type": "code",
      "execution_count": null,
      "metadata": {
        "colab": {
          "base_uri": "https://localhost:8080/"
        },
        "id": "_Qp9tVyZd6Jt",
        "outputId": "3757b1ec-bc05-481c-81b0-c0fa4dc1cf21"
      },
      "outputs": [
        {
          "name": "stdout",
          "output_type": "stream",
          "text": [
            "/bin/bash: line 1: data/: No such file or directory\n",
            "Archive:  AEykvkXwsYY_L4HrdLwFMkU?rlkey=n4s44wyj8wal5inty51vfu1zr\n",
            "warning:  stripped absolute path spec from /\n",
            "mapname:  conversion of  failed\n",
            "   creating: combined/\n",
            "   creating: datasets/\n",
            "   creating: embeddings/\n",
            " extracting: build_data.py           \n",
            " extracting: build_datasets.py       \n",
            " extracting: datasets/Wu_test.pt     \n",
            " extracting: combined/Wu_test.csv    \n",
            " extracting: datasets/Wu_train.pt    \n",
            " extracting: combined/Wu_train.csv   \n",
            " extracting: datasets/Chen_test.pt   \n",
            " extracting: combined/Chen_test.csv  \n",
            " extracting: datasets/Chen_train.pt  \n",
            " extracting: datasets/Olson_test.pt  \n",
            " extracting: datasets/Sinai_test.pt  \n",
            " extracting: combined/Olson_test.csv  \n",
            " extracting: combined/Sinai_test.csv  \n",
            " extracting: combined/Chen_train.csv  \n",
            " extracting: datasets/Olson_train.pt  \n",
            " extracting: datasets/Sinai_train.pt  \n",
            " extracting: combined/Sinai_train.csv  \n",
            " extracting: combined/Olson_train.csv  \n",
            " extracting: embeddings/Wu_test_seq.pt  \n",
            " extracting: datasets/Pokusaeva_test.pt  \n",
            " extracting: datasets/Tsuboyama_test.pt  \n",
            " extracting: embeddings/Wu_train_seq.pt  \n",
            " extracting: combined/Tsuboyama_test.csv  \n",
            " extracting: combined/Pokusaeva_test.csv  \n",
            " extracting: datasets/Pokusaeva_train.pt  \n",
            " extracting: datasets/Tsuboyama_train.pt  \n",
            " extracting: embeddings/Chen_test_seq.pt  \n",
            " extracting: combined/Pokusaeva_train.csv  \n",
            " extracting: combined/Tsuboyama_train.csv  \n",
            " extracting: embeddings/Chen_train_seq.pt  \n",
            " extracting: embeddings/Olson_test_seq.pt  \n",
            " extracting: embeddings/Sinai_test_seq.pt  \n",
            " extracting: embeddings/Olson_train_seq.pt  \n",
            " extracting: embeddings/Sinai_train_seq.pt  \n",
            " extracting: embeddings/Pokusaeva_test_seq.pt  \n",
            " extracting: embeddings/Tsuboyama_test_seq.pt  \n",
            " extracting: embeddings/Tsuboyama_train_seq.pt  \n",
            " extracting: embeddings/Pokusaeva_train_seq.pt  \n",
            "\n",
            "1 archive had fatal errors.\n"
          ]
        }
      ],
      "source": [
        "!unzip AEykvkXwsYY_L4HrdLwFMkU?rlkey=n4s44wyj8wal5inty51vfu1zr&st=9vl2ntfi&dl=0 data/"
      ]
    },
    {
      "cell_type": "code",
      "execution_count": 45,
      "metadata": {
        "id": "WRgDfMuRygqD"
      },
      "outputs": [],
      "source": [
        "emb = torch.load('data/embeddings/Tsuboyama_test_seq.pt', map_location=device)\n",
        "y = pd.read_csv('data/combined/Tsuboyama_test.csv')['DMS_score']\n",
        "df = pd.DataFrame(emb.cpu().numpy())\n",
        "df['y'] = y"
      ]
    },
    {
      "cell_type": "code",
      "execution_count": 46,
      "metadata": {},
      "outputs": [
        {
          "data": {
            "text/plain": [
              "0        0.223195\n",
              "1       -1.500186\n",
              "2       -0.944639\n",
              "3       -0.241966\n",
              "4       -0.293641\n",
              "           ...   \n",
              "25082   -0.502718\n",
              "25083    0.236532\n",
              "25084   -0.803547\n",
              "25085   -2.435472\n",
              "25086   -0.030397\n",
              "Name: y, Length: 25087, dtype: float64"
            ]
          },
          "execution_count": 46,
          "metadata": {},
          "output_type": "execute_result"
        }
      ],
      "source": [
        "df['y']"
      ]
    },
    {
      "cell_type": "code",
      "execution_count": 47,
      "metadata": {},
      "outputs": [
        {
          "data": {
            "text/plain": [
              "y\n",
              " 0.223195    1\n",
              "-3.801661    1\n",
              "-1.044932    1\n",
              "-1.441870    1\n",
              "-0.270375    1\n",
              "            ..\n",
              "-3.348938    1\n",
              "-0.632775    1\n",
              "-0.920019    1\n",
              "-1.580203    1\n",
              "-0.030397    1\n",
              "Name: count, Length: 25087, dtype: int64"
            ]
          },
          "execution_count": 47,
          "metadata": {},
          "output_type": "execute_result"
        }
      ],
      "source": [
        "df['y'].value_counts()"
      ]
    },
    {
      "cell_type": "code",
      "execution_count": 48,
      "metadata": {
        "id": "ZkWjxQnke56t"
      },
      "outputs": [],
      "source": [
        "import matplotlib.pyplot as plt"
      ]
    },
    {
      "cell_type": "code",
      "execution_count": 49,
      "metadata": {
        "colab": {
          "base_uri": "https://localhost:8080/",
          "height": 430
        },
        "id": "0Olv0RFIfqfD",
        "outputId": "480a9412-ab7e-4723-c3d3-41d29153b6d6"
      },
      "outputs": [
        {
          "data": {
            "image/png": "[encoded data removed]",
            "text/plain": [
              "<Figure size 640x480 with 1 Axes>"
            ]
          },
          "metadata": {},
          "output_type": "display_data"
        }
      ],
      "source": [
        "plt.hist(y, bins=200)\n",
        "plt.show()"
      ]
    },
    {
      "cell_type": "code",
      "execution_count": 42,
      "metadata": {
        "colab": {
          "base_uri": "https://localhost:8080/"
        },
        "id": "IsXe35SifypH",
        "outputId": "9fe6946b-a3e9-42e6-f7f4-c9651c9fcd14"
      },
      "outputs": [
        {
          "name": "stdout",
          "output_type": "stream",
          "text": [
            "(107393,)\n"
          ]
        }
      ],
      "source": [
        "import sklearn\n",
        "\n",
        "import numpy as np\n",
        "from sklearn.linear_model import LinearRegression\n",
        "\n",
        "print(np.array(y).shape)"
      ]
    },
    {
      "cell_type": "code",
      "execution_count": 50,
      "metadata": {},
      "outputs": [],
      "source": [
        "import smogn\n",
        "\n",
        "for col in df.columns:\n",
        "    df[col] = df[col].astype(float)\n",
        "    df[col] = (df[col] - df[col].mean()) / df[col].std()\n",
        "                                     "
      ]
    },
    {
      "cell_type": "code",
      "execution_count": null,
      "metadata": {},
      "outputs": [],
      "source": [
        "def smoterify(name): \n",
        "    emb = torch.load(f'data/embeddings/{name}_seq.pt', map_location=device)\n",
        "    y = pd.read_csv(f'data/combined/{name}.csv')['DMS_score']\n",
        "    df = pd.DataFrame(emb.cpu().numpy())\n",
        "    df['y'] = y\n",
        "\n",
        "    #norm first\n",
        "    for col in df.columns:\n",
        "        df[col] = df[col].astype(float)\n",
        "        df[col] = (df[col] - df[col].mean()) / df[col].std()\n",
        "    \n",
        "    result = smogn.smoter(df, 'y')\n",
        "    return result\n"
      ]
    },
    {
      "cell_type": "code",
      "execution_count": 53,
      "metadata": {},
      "outputs": [
        {
          "name": "stderr",
          "output_type": "stream",
          "text": [
            "dist_matrix:  10%|#         | 212/2091 [07:23<1:05:27,  2.09s/it]\n"
          ]
        },
        {
          "ename": "KeyboardInterrupt",
          "evalue": "",
          "output_type": "error",
          "traceback": [
            "\u001b[0;31m---------------------------------------------------------------------------\u001b[0m",
            "\u001b[0;31mKeyboardInterrupt\u001b[0m                         Traceback (most recent call last)",
            "Cell \u001b[0;32mIn[53], line 1\u001b[0m\n\u001b[0;32m----> 1\u001b[0m \u001b[43msmogn\u001b[49m\u001b[38;5;241;43m.\u001b[39;49m\u001b[43msmoter\u001b[49m\u001b[43m(\u001b[49m\u001b[43mdf\u001b[49m\u001b[43m,\u001b[49m\u001b[43m \u001b[49m\u001b[38;5;124;43m'\u001b[39;49m\u001b[38;5;124;43my\u001b[39;49m\u001b[38;5;124;43m'\u001b[39;49m\u001b[43m)\u001b[49m\n",
            "File \u001b[0;32m~/.conda/envs/mlb_project/lib/python3.11/site-packages/smogn/smoter.py:240\u001b[0m, in \u001b[0;36msmoter\u001b[0;34m(data, y, k, pert, samp_method, under_samp, drop_na_col, drop_na_row, replace, rel_thres, rel_method, rel_xtrm_type, rel_coef, rel_ctrl_pts_rg)\u001b[0m\n\u001b[1;32m    234\u001b[0m \u001b[38;5;66;03m## over-sampling\u001b[39;00m\n\u001b[1;32m    235\u001b[0m \u001b[38;5;28;01mif\u001b[39;00m s_perc[i] \u001b[38;5;241m>\u001b[39m \u001b[38;5;241m1\u001b[39m:\n\u001b[1;32m    236\u001b[0m     \n\u001b[1;32m    237\u001b[0m     \u001b[38;5;66;03m## generate synthetic observations in training set\u001b[39;00m\n\u001b[1;32m    238\u001b[0m     \u001b[38;5;66;03m## considered 'minority'\u001b[39;00m\n\u001b[1;32m    239\u001b[0m     \u001b[38;5;66;03m## (see 'over_sampling()' function for details)\u001b[39;00m\n\u001b[0;32m--> 240\u001b[0m     synth_obs \u001b[38;5;241m=\u001b[39m \u001b[43mover_sampling\u001b[49m\u001b[43m(\u001b[49m\n\u001b[1;32m    241\u001b[0m \u001b[43m        \u001b[49m\u001b[43mdata\u001b[49m\u001b[43m \u001b[49m\u001b[38;5;241;43m=\u001b[39;49m\u001b[43m \u001b[49m\u001b[43mdata\u001b[49m\u001b[43m,\u001b[49m\n\u001b[1;32m    242\u001b[0m \u001b[43m        \u001b[49m\u001b[43mindex\u001b[49m\u001b[43m \u001b[49m\u001b[38;5;241;43m=\u001b[39;49m\u001b[43m \u001b[49m\u001b[38;5;28;43mlist\u001b[39;49m\u001b[43m(\u001b[49m\u001b[43mb_index\u001b[49m\u001b[43m[\u001b[49m\u001b[43mi\u001b[49m\u001b[43m]\u001b[49m\u001b[38;5;241;43m.\u001b[39;49m\u001b[43mindex\u001b[49m\u001b[43m)\u001b[49m\u001b[43m,\u001b[49m\n\u001b[1;32m    243\u001b[0m \u001b[43m        \u001b[49m\u001b[43mperc\u001b[49m\u001b[43m \u001b[49m\u001b[38;5;241;43m=\u001b[39;49m\u001b[43m \u001b[49m\u001b[43ms_perc\u001b[49m\u001b[43m[\u001b[49m\u001b[43mi\u001b[49m\u001b[43m]\u001b[49m\u001b[43m,\u001b[49m\n\u001b[1;32m    244\u001b[0m \u001b[43m        \u001b[49m\u001b[43mpert\u001b[49m\u001b[43m \u001b[49m\u001b[38;5;241;43m=\u001b[39;49m\u001b[43m \u001b[49m\u001b[43mpert\u001b[49m\u001b[43m,\u001b[49m\n\u001b[1;32m    245\u001b[0m \u001b[43m        \u001b[49m\u001b[43mk\u001b[49m\u001b[43m \u001b[49m\u001b[38;5;241;43m=\u001b[39;49m\u001b[43m \u001b[49m\u001b[43mk\u001b[49m\n\u001b[1;32m    246\u001b[0m \u001b[43m    \u001b[49m\u001b[43m)\u001b[49m\n\u001b[1;32m    248\u001b[0m     \u001b[38;5;66;03m## concatenate over-sampling\u001b[39;00m\n\u001b[1;32m    249\u001b[0m     \u001b[38;5;66;03m## results to modified training set\u001b[39;00m\n\u001b[1;32m    250\u001b[0m     data_new \u001b[38;5;241m=\u001b[39m pd\u001b[38;5;241m.\u001b[39mconcat([synth_obs, data_new])\n",
            "File \u001b[0;32m~/.conda/envs/mlb_project/lib/python3.11/site-packages/smogn/over_sampling.py:169\u001b[0m, in \u001b[0;36mover_sampling\u001b[0;34m(data, index, perc, pert, k)\u001b[0m\n\u001b[1;32m    164\u001b[0m \u001b[38;5;28;01mfor\u001b[39;00m j \u001b[38;5;129;01min\u001b[39;00m \u001b[38;5;28mrange\u001b[39m(n):\n\u001b[1;32m    165\u001b[0m     \n\u001b[1;32m    166\u001b[0m     \u001b[38;5;66;03m## utilize euclidean distance given that \u001b[39;00m\n\u001b[1;32m    167\u001b[0m     \u001b[38;5;66;03m## data is all numeric / continuous\u001b[39;00m\n\u001b[1;32m    168\u001b[0m     \u001b[38;5;28;01mif\u001b[39;00m feat_count_nom \u001b[38;5;241m==\u001b[39m \u001b[38;5;241m0\u001b[39m:\n\u001b[0;32m--> 169\u001b[0m         dist_matrix[i][j] \u001b[38;5;241m=\u001b[39m \u001b[43meuclidean_dist\u001b[49m\u001b[43m(\u001b[49m\n\u001b[1;32m    170\u001b[0m \u001b[43m            \u001b[49m\u001b[43ma\u001b[49m\u001b[43m \u001b[49m\u001b[38;5;241;43m=\u001b[39;49m\u001b[43m \u001b[49m\u001b[43mdata_num\u001b[49m\u001b[38;5;241;43m.\u001b[39;49m\u001b[43miloc\u001b[49m\u001b[43m[\u001b[49m\u001b[43mi\u001b[49m\u001b[43m]\u001b[49m\u001b[43m,\u001b[49m\n\u001b[1;32m    171\u001b[0m \u001b[43m            \u001b[49m\u001b[43mb\u001b[49m\u001b[43m \u001b[49m\u001b[38;5;241;43m=\u001b[39;49m\u001b[43m \u001b[49m\u001b[43mdata_num\u001b[49m\u001b[38;5;241;43m.\u001b[39;49m\u001b[43miloc\u001b[49m\u001b[43m[\u001b[49m\u001b[43mj\u001b[49m\u001b[43m]\u001b[49m\u001b[43m,\u001b[49m\n\u001b[1;32m    172\u001b[0m \u001b[43m            \u001b[49m\u001b[43md\u001b[49m\u001b[43m \u001b[49m\u001b[38;5;241;43m=\u001b[39;49m\u001b[43m \u001b[49m\u001b[43mfeat_count_num\u001b[49m\n\u001b[1;32m    173\u001b[0m \u001b[43m        \u001b[49m\u001b[43m)\u001b[49m\n\u001b[1;32m    175\u001b[0m     \u001b[38;5;66;03m## utilize heom distance given that \u001b[39;00m\n\u001b[1;32m    176\u001b[0m     \u001b[38;5;66;03m## data contains both numeric / continuous \u001b[39;00m\n\u001b[1;32m    177\u001b[0m     \u001b[38;5;66;03m## and nominal / categorical\u001b[39;00m\n\u001b[1;32m    178\u001b[0m     \u001b[38;5;28;01mif\u001b[39;00m feat_count_nom \u001b[38;5;241m>\u001b[39m \u001b[38;5;241m0\u001b[39m \u001b[38;5;129;01mand\u001b[39;00m feat_count_num \u001b[38;5;241m>\u001b[39m \u001b[38;5;241m0\u001b[39m:\n",
            "File \u001b[0;32m~/.conda/envs/mlb_project/lib/python3.11/site-packages/smogn/dist_metrics.py:21\u001b[0m, in \u001b[0;36meuclidean_dist\u001b[0;34m(a, b, d)\u001b[0m\n\u001b[1;32m     15\u001b[0m \u001b[38;5;66;03m## loop through columns to calculate euclidean \u001b[39;00m\n\u001b[1;32m     16\u001b[0m \u001b[38;5;66;03m## distance for numeric / continuous features\u001b[39;00m\n\u001b[1;32m     17\u001b[0m \u001b[38;5;28;01mfor\u001b[39;00m i \u001b[38;5;129;01min\u001b[39;00m \u001b[38;5;28mrange\u001b[39m(d):\n\u001b[1;32m     18\u001b[0m     \n\u001b[1;32m     19\u001b[0m     \u001b[38;5;66;03m## the squared difference of values in\u001b[39;00m\n\u001b[1;32m     20\u001b[0m     \u001b[38;5;66;03m## vectors a and b of equal length \u001b[39;00m\n\u001b[0;32m---> 21\u001b[0m     dist[i] \u001b[38;5;241m=\u001b[39m (a\u001b[38;5;241m.\u001b[39miloc[i] \u001b[38;5;241m-\u001b[39m \u001b[43mb\u001b[49m\u001b[38;5;241;43m.\u001b[39;49m\u001b[43miloc\u001b[49m\u001b[43m[\u001b[49m\u001b[43mi\u001b[49m\u001b[43m]\u001b[49m) \u001b[38;5;241m*\u001b[39m\u001b[38;5;241m*\u001b[39m \u001b[38;5;241m2\u001b[39m\n\u001b[1;32m     23\u001b[0m \u001b[38;5;66;03m## sum all the squared differences and take the square root\u001b[39;00m\n\u001b[1;32m     24\u001b[0m dist \u001b[38;5;241m=\u001b[39m np\u001b[38;5;241m.\u001b[39msqrt(\u001b[38;5;28msum\u001b[39m(dist))\n",
            "File \u001b[0;32m~/.conda/envs/mlb_project/lib/python3.11/site-packages/pandas/core/indexing.py:1191\u001b[0m, in \u001b[0;36m_LocationIndexer.__getitem__\u001b[0;34m(self, key)\u001b[0m\n\u001b[1;32m   1189\u001b[0m maybe_callable \u001b[38;5;241m=\u001b[39m com\u001b[38;5;241m.\u001b[39mapply_if_callable(key, \u001b[38;5;28mself\u001b[39m\u001b[38;5;241m.\u001b[39mobj)\n\u001b[1;32m   1190\u001b[0m maybe_callable \u001b[38;5;241m=\u001b[39m \u001b[38;5;28mself\u001b[39m\u001b[38;5;241m.\u001b[39m_check_deprecated_callable_usage(key, maybe_callable)\n\u001b[0;32m-> 1191\u001b[0m \u001b[38;5;28;01mreturn\u001b[39;00m \u001b[38;5;28;43mself\u001b[39;49m\u001b[38;5;241;43m.\u001b[39;49m\u001b[43m_getitem_axis\u001b[49m\u001b[43m(\u001b[49m\u001b[43mmaybe_callable\u001b[49m\u001b[43m,\u001b[49m\u001b[43m \u001b[49m\u001b[43maxis\u001b[49m\u001b[38;5;241;43m=\u001b[39;49m\u001b[43maxis\u001b[49m\u001b[43m)\u001b[49m\n",
            "File \u001b[0;32m~/.conda/envs/mlb_project/lib/python3.11/site-packages/pandas/core/indexing.py:1737\u001b[0m, in \u001b[0;36m_iLocIndexer._getitem_axis\u001b[0;34m(self, key, axis)\u001b[0m\n\u001b[1;32m   1734\u001b[0m \u001b[38;5;28;01mif\u001b[39;00m \u001b[38;5;28misinstance\u001b[39m(key, \u001b[38;5;28mlist\u001b[39m):\n\u001b[1;32m   1735\u001b[0m     key \u001b[38;5;241m=\u001b[39m np\u001b[38;5;241m.\u001b[39masarray(key)\n\u001b[0;32m-> 1737\u001b[0m \u001b[38;5;28;01mif\u001b[39;00m \u001b[43mcom\u001b[49m\u001b[38;5;241;43m.\u001b[39;49m\u001b[43mis_bool_indexer\u001b[49m\u001b[43m(\u001b[49m\u001b[43mkey\u001b[49m\u001b[43m)\u001b[49m:\n\u001b[1;32m   1738\u001b[0m     \u001b[38;5;28mself\u001b[39m\u001b[38;5;241m.\u001b[39m_validate_key(key, axis)\n\u001b[1;32m   1739\u001b[0m     \u001b[38;5;28;01mreturn\u001b[39;00m \u001b[38;5;28mself\u001b[39m\u001b[38;5;241m.\u001b[39m_getbool_axis(key, axis\u001b[38;5;241m=\u001b[39maxis)\n",
            "File \u001b[0;32m~/.conda/envs/mlb_project/lib/python3.11/site-packages/pandas/core/common.py:125\u001b[0m, in \u001b[0;36mis_bool_indexer\u001b[0;34m(key)\u001b[0m\n\u001b[1;32m     97\u001b[0m \u001b[38;5;28;01mdef\u001b[39;00m \u001b[38;5;21mis_bool_indexer\u001b[39m(key: Any) \u001b[38;5;241m-\u001b[39m\u001b[38;5;241m>\u001b[39m \u001b[38;5;28mbool\u001b[39m:\n\u001b[1;32m     98\u001b[0m \u001b[38;5;250m    \u001b[39m\u001b[38;5;124;03m\"\"\"\u001b[39;00m\n\u001b[1;32m     99\u001b[0m \u001b[38;5;124;03m    Check whether `key` is a valid boolean indexer.\u001b[39;00m\n\u001b[1;32m    100\u001b[0m \n\u001b[0;32m   (...)\u001b[0m\n\u001b[1;32m    123\u001b[0m \u001b[38;5;124;03m        and convert to an ndarray.\u001b[39;00m\n\u001b[1;32m    124\u001b[0m \u001b[38;5;124;03m    \"\"\"\u001b[39;00m\n\u001b[0;32m--> 125\u001b[0m     \u001b[38;5;28;01mif\u001b[39;00m \u001b[38;5;28misinstance\u001b[39m(\n\u001b[1;32m    126\u001b[0m         key, (ABCSeries, np\u001b[38;5;241m.\u001b[39mndarray, ABCIndex, ABCExtensionArray)\n\u001b[1;32m    127\u001b[0m     ) \u001b[38;5;129;01mand\u001b[39;00m \u001b[38;5;129;01mnot\u001b[39;00m \u001b[38;5;28misinstance\u001b[39m(key, ABCMultiIndex):\n\u001b[1;32m    128\u001b[0m         \u001b[38;5;28;01mif\u001b[39;00m key\u001b[38;5;241m.\u001b[39mdtype \u001b[38;5;241m==\u001b[39m np\u001b[38;5;241m.\u001b[39mobject_:\n\u001b[1;32m    129\u001b[0m             key_array \u001b[38;5;241m=\u001b[39m np\u001b[38;5;241m.\u001b[39masarray(key)\n",
            "File \u001b[0;32m~/.conda/envs/mlb_project/lib/python3.11/site-packages/pandas/core/dtypes/generic.py:42\u001b[0m, in \u001b[0;36mcreate_pandas_abc_type.<locals>._instancecheck\u001b[0;34m(cls, inst)\u001b[0m\n\u001b[1;32m     38\u001b[0m     \u001b[38;5;28;01mreturn\u001b[39;00m \u001b[38;5;28mgetattr\u001b[39m(inst, attr, \u001b[38;5;124m\"\u001b[39m\u001b[38;5;124m_typ\u001b[39m\u001b[38;5;124m\"\u001b[39m) \u001b[38;5;129;01min\u001b[39;00m comp\n\u001b[1;32m     40\u001b[0m \u001b[38;5;66;03m# https://github.com/python/mypy/issues/1006\u001b[39;00m\n\u001b[1;32m     41\u001b[0m \u001b[38;5;66;03m# error: 'classmethod' used with a non-method\u001b[39;00m\n\u001b[0;32m---> 42\u001b[0m \u001b[38;5;129m@classmethod\u001b[39m  \u001b[38;5;66;03m# type: ignore[misc]\u001b[39;00m\n\u001b[1;32m     43\u001b[0m \u001b[38;5;28;01mdef\u001b[39;00m \u001b[38;5;21m_instancecheck\u001b[39m(\u001b[38;5;28mcls\u001b[39m, inst) \u001b[38;5;241m-\u001b[39m\u001b[38;5;241m>\u001b[39m \u001b[38;5;28mbool\u001b[39m:\n\u001b[1;32m     44\u001b[0m     \u001b[38;5;28;01mreturn\u001b[39;00m _check(inst) \u001b[38;5;129;01mand\u001b[39;00m \u001b[38;5;129;01mnot\u001b[39;00m \u001b[38;5;28misinstance\u001b[39m(inst, \u001b[38;5;28mtype\u001b[39m)\n\u001b[1;32m     46\u001b[0m \u001b[38;5;129m@classmethod\u001b[39m  \u001b[38;5;66;03m# type: ignore[misc]\u001b[39;00m\n\u001b[1;32m     47\u001b[0m \u001b[38;5;28;01mdef\u001b[39;00m \u001b[38;5;21m_subclasscheck\u001b[39m(\u001b[38;5;28mcls\u001b[39m, inst) \u001b[38;5;241m-\u001b[39m\u001b[38;5;241m>\u001b[39m \u001b[38;5;28mbool\u001b[39m:\n\u001b[1;32m     48\u001b[0m     \u001b[38;5;66;03m# Raise instead of returning False\u001b[39;00m\n\u001b[1;32m     49\u001b[0m     \u001b[38;5;66;03m# This is consistent with default __subclasscheck__ behavior\u001b[39;00m\n",
            "\u001b[0;31mKeyboardInterrupt\u001b[0m: "
          ]
        }
      ],
      "source": [
        "smogn.smoter(df, 'y')"
      ]
    },
    {
      "cell_type": "code",
      "execution_count": 15,
      "metadata": {
        "colab": {
          "base_uri": "https://localhost:8080/",
          "height": 74
        },
        "id": "gOZQkr5AgUt_",
        "outputId": "a23b86a6-f2b5-49ae-da77-c104e33db8d7"
      },
      "outputs": [
        {
          "data": {
            "text/html": [
              "<style>#sk-container-id-1 {color: black;background-color: white;}#sk-container-id-1 pre{padding: 0;}#sk-container-id-1 div.sk-toggleable {background-color: white;}#sk-container-id-1 label.sk-toggleable__label {cursor: pointer;display: block;width: 100%;margin-bottom: 0;padding: 0.3em;box-sizing: border-box;text-align: center;}#sk-container-id-1 label.sk-toggleable__label-arrow:before {content: \"▸\";float: left;margin-right: 0.25em;color: #696969;}#sk-container-id-1 label.sk-toggleable__label-arrow:hover:before {color: black;}#sk-container-id-1 div.sk-estimator:hover label.sk-toggleable__label-arrow:before {color: black;}#sk-container-id-1 div.sk-toggleable__content {max-height: 0;max-width: 0;overflow: hidden;text-align: left;background-color: #f0f8ff;}#sk-container-id-1 div.sk-toggleable__content pre {margin: 0.2em;color: black;border-radius: 0.25em;background-color: #f0f8ff;}#sk-container-id-1 input.sk-toggleable__control:checked~div.sk-toggleable__content {max-height: 200px;max-width: 100%;overflow: auto;}#sk-container-id-1 input.sk-toggleable__control:checked~label.sk-toggleable__label-arrow:before {content: \"▾\";}#sk-container-id-1 div.sk-estimator input.sk-toggleable__control:checked~label.sk-toggleable__label {background-color: #d4ebff;}#sk-container-id-1 div.sk-label input.sk-toggleable__control:checked~label.sk-toggleable__label {background-color: #d4ebff;}#sk-container-id-1 input.sk-hidden--visually {border: 0;clip: rect(1px 1px 1px 1px);clip: rect(1px, 1px, 1px, 1px);height: 1px;margin: -1px;overflow: hidden;padding: 0;position: absolute;width: 1px;}#sk-container-id-1 div.sk-estimator {font-family: monospace;background-color: #f0f8ff;border: 1px dotted black;border-radius: 0.25em;box-sizing: border-box;margin-bottom: 0.5em;}#sk-container-id-1 div.sk-estimator:hover {background-color: #d4ebff;}#sk-container-id-1 div.sk-parallel-item::after {content: \"\";width: 100%;border-bottom: 1px solid gray;flex-grow: 1;}#sk-container-id-1 div.sk-label:hover label.sk-toggleable__label {background-color: #d4ebff;}#sk-container-id-1 div.sk-serial::before {content: \"\";position: absolute;border-left: 1px solid gray;box-sizing: border-box;top: 0;bottom: 0;left: 50%;z-index: 0;}#sk-container-id-1 div.sk-serial {display: flex;flex-direction: column;align-items: center;background-color: white;padding-right: 0.2em;padding-left: 0.2em;position: relative;}#sk-container-id-1 div.sk-item {position: relative;z-index: 1;}#sk-container-id-1 div.sk-parallel {display: flex;align-items: stretch;justify-content: center;background-color: white;position: relative;}#sk-container-id-1 div.sk-item::before, #sk-container-id-1 div.sk-parallel-item::before {content: \"\";position: absolute;border-left: 1px solid gray;box-sizing: border-box;top: 0;bottom: 0;left: 50%;z-index: -1;}#sk-container-id-1 div.sk-parallel-item {display: flex;flex-direction: column;z-index: 1;position: relative;background-color: white;}#sk-container-id-1 div.sk-parallel-item:first-child::after {align-self: flex-end;width: 50%;}#sk-container-id-1 div.sk-parallel-item:last-child::after {align-self: flex-start;width: 50%;}#sk-container-id-1 div.sk-parallel-item:only-child::after {width: 0;}#sk-container-id-1 div.sk-dashed-wrapped {border: 1px dashed gray;margin: 0 0.4em 0.5em 0.4em;box-sizing: border-box;padding-bottom: 0.4em;background-color: white;}#sk-container-id-1 div.sk-label label {font-family: monospace;font-weight: bold;display: inline-block;line-height: 1.2em;}#sk-container-id-1 div.sk-label-container {text-align: center;}#sk-container-id-1 div.sk-container {/* jupyter's `normalize.less` sets `[hidden] { display: none; }` but bootstrap.min.css set `[hidden] { display: none !important; }` so we also need the `!important` here to be able to override the default hidden behavior on the sphinx rendered scikit-learn.org. See: https://github.com/scikit-learn/scikit-learn/issues/21755 */display: inline-block !important;position: relative;}#sk-container-id-1 div.sk-text-repr-fallback {display: none;}</style><div id=\"sk-container-id-1\" class=\"sk-top-container\"><div class=\"sk-text-repr-fallback\"><pre>LinearRegression()</pre><b>In a Jupyter environment, please rerun this cell to show the HTML representation or trust the notebook. <br />On GitHub, the HTML representation is unable to render, please try loading this page with nbviewer.org.</b></div><div class=\"sk-container\" hidden><div class=\"sk-item\"><div class=\"sk-estimator sk-toggleable\"><input class=\"sk-toggleable__control sk-hidden--visually\" id=\"sk-estimator-id-1\" type=\"checkbox\" checked><label for=\"sk-estimator-id-1\" class=\"sk-toggleable__label sk-toggleable__label-arrow\">LinearRegression</label><div class=\"sk-toggleable__content\"><pre>LinearRegression()</pre></div></div></div></div></div>"
            ],
            "text/plain": [
              "LinearRegression()"
            ]
          },
          "execution_count": 15,
          "metadata": {},
          "output_type": "execute_result"
        }
      ],
      "source": [
        "lin_reg = LinearRegression()\n",
        "lin_reg.fit(X.cpu().numpy(), np.array(y))"
      ]
    },
    {
      "cell_type": "code",
      "execution_count": 16,
      "metadata": {
        "id": "hkRaME1Vg-Jp"
      },
      "outputs": [],
      "source": [
        "test_X = torch.load('data/embeddings/Olson_test_seq.pt', map_location=device)\n",
        "test_y = pd.read_csv('data/combined/Olson_test.csv')['DMS_score']\n",
        "predictions = lin_reg.predict(test_X.cpu().numpy())"
      ]
    },
    {
      "cell_type": "code",
      "execution_count": 17,
      "metadata": {
        "colab": {
          "base_uri": "https://localhost:8080/"
        },
        "id": "CQzTOU4Sh1jt",
        "outputId": "f40614da-356b-4e52-e1b8-22a23197bd6b"
      },
      "outputs": [
        {
          "name": "stdout",
          "output_type": "stream",
          "text": [
            "0.8761505019063874\n"
          ]
        }
      ],
      "source": [
        "from scipy.stats import spearmanr\n",
        "\n",
        "coef, p = spearmanr(np.array(test_y), predictions)\n",
        "print(coef)"
      ]
    },
    {
      "cell_type": "code",
      "execution_count": 18,
      "metadata": {
        "id": "89Eqs9fe78qe"
      },
      "outputs": [],
      "source": [
        "def minmax(x):\n",
        "    return ( (x - np.min(x)) / (np.max(x) - np.min(x)) )\n",
        "\n",
        "def calc_ndcg(y_true, y_score, **kwargs):\n",
        "    '''\n",
        "    Inputs:\n",
        "        y_true: an array of the true scores where higher score is better\n",
        "        y_score: an array of the predicted scores where higher score is better\n",
        "    Options:\n",
        "        quantile: If True, uses the top k quantile of the distribution\n",
        "        top: under the quantile setting this is the top quantile to\n",
        "            keep in the gains calc. This is a PERCENTAGE (i.e input 10 for top 10%)\n",
        "    Notes:\n",
        "        Currently we're calculating NDCG on the continuous value of the DMS\n",
        "        I tried it on the binary value as well and the metrics seemed mostly\n",
        "        the same.\n",
        "    '''\n",
        "    if 'quantile' not in kwargs:\n",
        "        kwargs['quantile'] = True\n",
        "    if 'top' not in kwargs:\n",
        "        kwargs['top'] = 10\n",
        "    if kwargs['quantile']:\n",
        "        k = np.floor(y_true.shape[0]*(kwargs['top']/100)).astype(int)\n",
        "    else:\n",
        "        k = kwargs['top']\n",
        "    if isinstance(y_true, pd.Series):\n",
        "        y_true = y_true.values\n",
        "    if isinstance(y_score, pd.Series):\n",
        "        y_score = y_score.values\n",
        "    gains = minmax(y_true)\n",
        "    ranks = np.argsort(np.argsort(-y_score)) + 1\n",
        "\n",
        "    if k == 'all':\n",
        "        k = len(ranks)\n",
        "    #sub to top k\n",
        "    ranks_k = ranks[ranks <= k]\n",
        "    gains_k = gains[ranks <= k]\n",
        "    #all terms with a gain of 0 go to 0\n",
        "    ranks_fil = ranks_k[gains_k != 0]\n",
        "    gains_fil = gains_k[gains_k != 0]\n",
        "\n",
        "    #if none of the ranks made it return 0\n",
        "    if len(ranks_fil) == 0:\n",
        "        return (0)\n",
        "\n",
        "    #discounted cumulative gains\n",
        "    dcg = np.sum([g/np.log2(r+1) for r,g in zip(ranks_fil, gains_fil)])\n",
        "\n",
        "    #ideal dcg - calculated based on the top k actual gains\n",
        "    ideal_ranks = np.argsort(np.argsort(-gains)) + 1\n",
        "    ideal_ranks_k = ideal_ranks[ideal_ranks <= k]\n",
        "    ideal_gains_k = gains[ideal_ranks <= k]\n",
        "    ideal_ranks_fil = ideal_ranks_k[ideal_gains_k != 0]\n",
        "    ideal_gains_fil = ideal_gains_k[ideal_gains_k != 0]\n",
        "    idcg = np.sum([g/np.log2(r+1) for r,g in zip(ideal_ranks_fil, ideal_gains_fil)])\n",
        "\n",
        "    #normalize\n",
        "    ndcg = dcg/idcg\n",
        "\n",
        "    return (ndcg)\n",
        "def calc_toprecall(true_scores, model_scores, top_true=10, top_model=10):\n",
        "    top_true = (true_scores >= np.percentile(true_scores, 100-top_true))\n",
        "    top_model = (model_scores >= np.percentile(model_scores, 100-top_model))\n",
        "\n",
        "    TP = (top_true) & (top_model)\n",
        "    recall = TP.sum() / (top_true.sum())\n",
        "\n",
        "    return (recall)"
      ]
    },
    {
      "cell_type": "code",
      "execution_count": null,
      "metadata": {},
      "outputs": [],
      "source": []
    },
    {
      "cell_type": "code",
      "execution_count": 19,
      "metadata": {
        "colab": {
          "base_uri": "https://localhost:8080/"
        },
        "id": "MxvPBHoT9Q0i",
        "outputId": "2b34e117-860c-4ed7-a3d2-fb68a9327ceb"
      },
      "outputs": [
        {
          "name": "stdout",
          "output_type": "stream",
          "text": [
            "0.9274056625828503\n",
            "0.5106145251396648\n"
          ]
        }
      ],
      "source": [
        "print(calc_ndcg(test_y, predictions))\n",
        "print(calc_toprecall(test_y, predictions))"
      ]
    },
    {
      "cell_type": "code",
      "execution_count": null,
      "metadata": {
        "colab": {
          "base_uri": "https://localhost:8080/"
        },
        "id": "KfWN0Ns2m6Aj",
        "outputId": "d3b99438-51e4-45c1-859e-6de268d4461f"
      },
      "outputs": [
        {
          "name": "stdout",
          "output_type": "stream",
          "text": [
            "(107393,)\n",
            "(107393,)\n"
          ]
        }
      ],
      "source": [
        "print(test_y.shape)\n",
        "print(predictions.shape)\n",
        "\n",
        "errors = np.abs(test_y- predictions)"
      ]
    },
    {
      "cell_type": "code",
      "execution_count": null,
      "metadata": {
        "colab": {
          "base_uri": "https://localhost:8080/",
          "height": 430
        },
        "id": "U85nc5KikCcA",
        "outputId": "a1558341-6be9-457e-8333-df16734608fd"
      },
      "outputs": [
        {
          "data": {
            "image/png": "[encoded data removed]",
            "text/plain": [
              "<Figure size 640x480 with 1 Axes>"
            ]
          },
          "metadata": {},
          "output_type": "display_data"
        }
      ],
      "source": [
        "vals, bins, _ = plt.hist(test_y, bins=200)\n",
        "plt.show()"
      ]
    },
    {
      "cell_type": "code",
      "execution_count": null,
      "metadata": {
        "colab": {
          "base_uri": "https://localhost:8080/",
          "height": 465
        },
        "id": "pPHoGS3Akoix",
        "outputId": "3a470a91-0d46-4dbe-80c3-1f8889dd0be2"
      },
      "outputs": [
        {
          "name": "stdout",
          "output_type": "stream",
          "text": [
            "(200,)\n",
            "(201,)\n"
          ]
        },
        {
          "data": {
            "image/png": "[encoded data removed]",
            "text/plain": [
              "<Figure size 640x480 with 1 Axes>"
            ]
          },
          "metadata": {},
          "output_type": "display_data"
        }
      ],
      "source": [
        "# prompt: find the average value of errors in the bins found in the previous cell and plot a bar plot showing the values\n",
        "\n",
        "bins_mean = []\n",
        "bins_vals = []\n",
        "for i in range(len(bins)-1):\n",
        "    vals_in_bin = test_y[(test_y >= bins[i]) & (test_y < bins[i+1])]\n",
        "    errors_in_bin = errors[(test_y >= bins[i]) & (test_y < bins[i+1])]\n",
        "    if len(errors_in_bin) > 0:\n",
        "        bins_mean.append(np.mean(errors_in_bin))\n",
        "        bins_vals.append(len(vals_in_bin))\n",
        "    else:\n",
        "        bins_mean.append(0)\n",
        "        bins_vals.append(0)\n",
        "\n",
        "print(np.array(bins_mean).shape)\n",
        "print(bins.shape)\n",
        "plt.bar(bins[:200], bins_mean)\n",
        "plt.show()\n"
      ]
    },
    {
      "cell_type": "code",
      "execution_count": null,
      "metadata": {
        "colab": {
          "base_uri": "https://localhost:8080/",
          "height": 430
        },
        "id": "6z9E4-xt-iF2",
        "outputId": "ea6c0775-8325-425a-cc95-996ee35cb7d6"
      },
      "outputs": [
        {
          "data": {
            "image/png": "[encoded data removed]",
            "text/plain": [
              "<Figure size 640x480 with 1 Axes>"
            ]
          },
          "metadata": {},
          "output_type": "display_data"
        }
      ],
      "source": [
        "from scipy.stats import pearsonr\n",
        "\n",
        "plt.plot(bins[:200], np.array(bins_mean))\n",
        "plt.plot(bins[:200], vals / 100)\n",
        "plt.show()"
      ]
    },
    {
      "cell_type": "code",
      "execution_count": null,
      "metadata": {
        "id": "ki2UwfbfXTeR"
      },
      "outputs": [],
      "source": [
        "from scipy.stats import binned_statistic\n",
        "\n",
        "avg_errors = binned_statistic(test_y, errors, statistic='mean', bins=bins)"
      ]
    },
    {
      "cell_type": "code",
      "execution_count": null,
      "metadata": {
        "colab": {
          "base_uri": "https://localhost:8080/"
        },
        "id": "9V3aV8stXqwE",
        "outputId": "e9d04a08-436d-439d-82be-d0d14411f85b"
      },
      "outputs": [
        {
          "name": "stdout",
          "output_type": "stream",
          "text": [
            "[[1.        0.0472589]\n",
            " [0.0472589 1.       ]]\n"
          ]
        }
      ],
      "source": [
        "changed_errors = np.nan_to_num(avg_errors.statistic, nan=0.0)\n",
        "\n",
        "print(np.corrcoef(vals, changed_errors))"
      ]
    },
    {
      "cell_type": "code",
      "execution_count": null,
      "metadata": {
        "colab": {
          "base_uri": "https://localhost:8080/"
        },
        "id": "7MSA2dYHV12-",
        "outputId": "170969ea-b329-4d90-d711-cd014106c823"
      },
      "outputs": [
        {
          "name": "stdout",
          "output_type": "stream",
          "text": [
            "[5.09757442e+04 4.85254516e+04 4.04570383e+04 3.00035804e+04\n",
            " 2.04094238e+04 1.34612828e+04 9.31252299e+03 7.20481220e+03\n",
            " 6.25267345e+03 5.83326289e+03 5.61944958e+03 5.47355159e+03\n",
            " 5.34800522e+03 5.23026256e+03 5.11896733e+03 5.01463538e+03\n",
            " 4.91656144e+03 4.82272972e+03 4.73080410e+03 4.63899783e+03\n",
            " 4.54660265e+03 4.45433456e+03 4.36431255e+03 4.27932674e+03\n",
            " 4.20151179e+03 4.13110689e+03 4.06608738e+03 4.00301492e+03\n",
            " 3.93871856e+03 3.87185500e+03 3.80348472e+03 3.73651133e+03\n",
            " 3.67453862e+03 3.62084237e+03 3.57778005e+03 3.54654096e+03\n",
            " 3.52702449e+03 3.51780681e+03 3.51638073e+03 3.51988018e+03\n",
            " 3.52619985e+03 3.53496174e+03 3.54761949e+03 3.56642394e+03\n",
            " 3.59274554e+03 3.62576301e+03 3.66237095e+03 3.69844309e+03\n",
            " 3.73082915e+03 3.75907498e+03 3.78585958e+03 3.81559953e+03\n",
            " 3.85178252e+03 3.89478463e+03 3.94181184e+03 3.98890943e+03\n",
            " 4.03342953e+03 4.07543924e+03 4.11762718e+03 4.16398163e+03\n",
            " 4.21783002e+03 4.28021456e+03 4.34959898e+03 4.42304142e+03\n",
            " 4.49790410e+03 4.57297418e+03 4.64854896e+03 4.72577567e+03\n",
            " 4.80585564e+03 4.88961204e+03 4.97747909e+03 5.06963646e+03\n",
            " 5.16627991e+03 5.26836715e+03 5.37858541e+03 5.50124771e+03\n",
            " 5.64016292e+03 5.79555593e+03 5.96263375e+03 6.13334007e+03\n",
            " 6.29999884e+03 6.45787042e+03 6.60502323e+03 6.74085763e+03\n",
            " 6.86570096e+03 6.98194629e+03 7.09483030e+03 7.21105056e+03\n",
            " 7.33560499e+03 7.46893810e+03 7.60635856e+03 7.74027373e+03\n",
            " 7.86405199e+03 7.97523592e+03 8.07621455e+03 8.17209672e+03\n",
            " 8.26709246e+03 8.36130922e+03 8.44968367e+03 8.52401249e+03\n",
            " 8.57752304e+03 8.60952472e+03 8.62691093e+03 8.64098504e+03\n",
            " 8.66149253e+03 8.69193494e+03 8.72905441e+03 8.76603885e+03\n",
            " 8.79668880e+03 8.81803219e+03 8.83064629e+03 8.83758970e+03\n",
            " 8.84337846e+03 8.85364998e+03 8.87486799e+03 8.91310041e+03\n",
            " 8.97201043e+03 9.05149023e+03 9.14837097e+03 9.25920547e+03\n",
            " 9.38335415e+03 9.52403863e+03 9.68638270e+03 9.87365969e+03\n",
            " 1.00841444e+04 1.03105608e+04 1.05427210e+04 1.07719768e+04\n",
            " 1.09944294e+04 1.12103611e+04 1.14204188e+04 1.16218827e+04\n",
            " 1.18079721e+04 1.19700933e+04 1.21004125e+04 1.21925039e+04\n",
            " 1.22404186e+04 1.22383319e+04 1.21817439e+04 1.20685191e+04\n",
            " 1.18975937e+04 1.16660694e+04 1.13681252e+04 1.09979039e+04\n",
            " 1.05543222e+04 1.00435013e+04 9.47691561e+03 8.86767833e+03\n",
            " 8.22873975e+03 7.57378057e+03 6.91801992e+03 6.27647068e+03\n",
            " 5.66084165e+03 5.07841197e+03 4.53403073e+03 4.03280547e+03\n",
            " 3.58042574e+03 3.18081870e+03 2.83358967e+03 2.53369784e+03\n",
            " 2.27358118e+03 2.04600116e+03 1.84576395e+03 1.66962514e+03\n",
            " 1.51488169e+03 1.37786536e+03 1.25358309e+03 1.13688523e+03\n",
            " 1.02423882e+03 9.14647032e+02 8.09093329e+02 7.09211474e+02\n",
            " 6.16305843e+02 5.31121332e+02 4.53937110e+02 3.84545589e+02\n",
            " 3.22202865e+02 2.65863222e+02 2.14712228e+02 1.68653046e+02\n",
            " 1.28375505e+02 9.49168915e+01 6.89615310e+01 5.02954548e+01\n",
            " 3.77280767e+01 2.94927501e+01 2.38533677e+01 1.95635409e+01\n",
            " 1.59829905e+01 1.29097301e+01 1.03318577e+01 8.25818686e+00\n",
            " 6.65476420e+00 5.43910152e+00 4.49679417e+00 3.71529373e+00\n",
            " 3.02421171e+00 2.41309674e+00 1.90897807e+00 1.53211114e+00]\n"
          ]
        }
      ],
      "source": [
        "from sklearn.neighbors import KernelDensity\n",
        "\n",
        "kd = KernelDensity(kernel='gaussian', bandwidth=0.1).fit(np.array(y)[:, np.newaxis])\n",
        "kd_vals_left = np.exp(kd.score_samples(bins[:-1, np.newaxis]))\n",
        "kd_vals_right = np.exp(kd.score_samples(bins[1:, np.newaxis]))\n",
        "pdf = kd_vals_right + kd_vals_left / 2.0 * len(test_y)\n",
        "print(pdf)"
      ]
    },
    {
      "cell_type": "code",
      "execution_count": null,
      "metadata": {
        "colab": {
          "base_uri": "https://localhost:8080/"
        },
        "id": "5zN4xWH9b7Gk",
        "outputId": "e3ee3964-b344-48ad-f08b-4fdeca6b89aa"
      },
      "outputs": [
        {
          "name": "stdout",
          "output_type": "stream",
          "text": [
            "[[1.         0.07466184]\n",
            " [0.07466184 1.        ]]\n"
          ]
        }
      ],
      "source": [
        "print(np.corrcoef(pdf, changed_errors))"
      ]
    },
    {
      "cell_type": "code",
      "execution_count": null,
      "metadata": {
        "id": "IWehRuHoyyfh"
      },
      "outputs": [],
      "source": [
        "import multiprocessing\n",
        "from tqdm import tqdm\n",
        "\n",
        "def parallel_score_samples(kde, samples, thread_count=int(0.875 * multiprocessing.cpu_count())):\n",
        "    with multiprocessing.Pool(thread_count) as p:\n",
        "        return np.concatenate(p.map(kde.score_samples, np.array_split(samples, thread_count)))"
      ]
    },
    {
      "cell_type": "code",
      "execution_count": null,
      "metadata": {
        "colab": {
          "base_uri": "https://localhost:8080/",
          "height": 1000
        },
        "id": "Go6TwIUnc6E9",
        "outputId": "78074f1a-7500-4750-cc7c-6ac4244418c7"
      },
      "outputs": [
        {
          "name": "stdout",
          "output_type": "stream",
          "text": [
            "[-4.60517019e+00 -4.56646686e+00 -4.52776354e+00 -4.48906022e+00\n",
            " -4.45035690e+00 -4.41165358e+00 -4.37295025e+00 -4.33424693e+00\n",
            " -4.29554361e+00 -4.25684029e+00 -4.21813697e+00 -4.17943364e+00\n",
            " -4.14073032e+00 -4.10202700e+00 -4.06332368e+00 -4.02462036e+00\n",
            " -3.98591703e+00 -3.94721371e+00 -3.90851039e+00 -3.86980707e+00\n",
            " -3.83110375e+00 -3.79240042e+00 -3.75369710e+00 -3.71499378e+00\n",
            " -3.67629046e+00 -3.63758714e+00 -3.59888381e+00 -3.56018049e+00\n",
            " -3.52147717e+00 -3.48277385e+00 -3.44407053e+00 -3.40536720e+00\n",
            " -3.36666388e+00 -3.32796056e+00 -3.28925724e+00 -3.25055392e+00\n",
            " -3.21185059e+00 -3.17314727e+00 -3.13444395e+00 -3.09574063e+00\n",
            " -3.05703731e+00 -3.01833398e+00 -2.97963066e+00 -2.94092734e+00\n",
            " -2.90222402e+00 -2.86352070e+00 -2.82481737e+00 -2.78611405e+00\n",
            " -2.74741073e+00 -2.70870741e+00 -2.67000409e+00 -2.63130076e+00\n",
            " -2.59259744e+00 -2.55389412e+00 -2.51519080e+00 -2.47648748e+00\n",
            " -2.43778415e+00 -2.39908083e+00 -2.36037751e+00 -2.32167419e+00\n",
            " -2.28297087e+00 -2.24426754e+00 -2.20556422e+00 -2.16686090e+00\n",
            " -2.12815758e+00 -2.08945426e+00 -2.05075093e+00 -2.01204761e+00\n",
            " -1.97334429e+00 -1.93464097e+00 -1.89593765e+00 -1.85723432e+00\n",
            " -1.81853100e+00 -1.77982768e+00 -1.74112436e+00 -1.70242104e+00\n",
            " -1.66371771e+00 -1.62501439e+00 -1.58631107e+00 -1.54760775e+00\n",
            " -1.50890443e+00 -1.47020110e+00 -1.43149778e+00 -1.39279446e+00\n",
            " -1.35409114e+00 -1.31538782e+00 -1.27668449e+00 -1.23798117e+00\n",
            " -1.19927785e+00 -1.16057453e+00 -1.12187121e+00 -1.08316788e+00\n",
            " -1.04446456e+00 -1.00576124e+00 -9.67057917e-01 -9.28354595e-01\n",
            " -8.89651273e-01 -8.50947951e-01 -8.12244629e-01 -7.73541307e-01\n",
            " -7.34837985e-01 -6.96134663e-01 -6.57431341e-01 -6.18728019e-01\n",
            " -5.80024697e-01 -5.41321375e-01 -5.02618053e-01 -4.63914731e-01\n",
            " -4.25211409e-01 -3.86508087e-01 -3.47804765e-01 -3.09101443e-01\n",
            " -2.70398121e-01 -2.31694799e-01 -1.92991477e-01 -1.54288155e-01\n",
            " -1.15584833e-01 -7.68815109e-02 -3.81781889e-02  5.25133153e-04\n",
            "  3.92284552e-02  7.79317772e-02  1.16635099e-01  1.55338421e-01\n",
            "  1.94041743e-01  2.32745065e-01  2.71448387e-01  3.10151709e-01\n",
            "  3.48855031e-01  3.87558353e-01  4.26261675e-01  4.64964997e-01\n",
            "  5.03668319e-01  5.42371641e-01  5.81074963e-01  6.19778285e-01\n",
            "  6.58481607e-01  6.97184929e-01  7.35888251e-01  7.74591573e-01\n",
            "  8.13294895e-01  8.51998217e-01  8.90701539e-01  9.29404861e-01\n",
            "  9.68108183e-01  1.00681151e+00  1.04551483e+00  1.08421815e+00\n",
            "  1.12292147e+00  1.16162479e+00  1.20032812e+00  1.23903144e+00\n",
            "  1.27773476e+00  1.31643808e+00  1.35514140e+00  1.39384473e+00\n",
            "  1.43254805e+00  1.47125137e+00  1.50995469e+00  1.54865801e+00\n",
            "  1.58736134e+00  1.62606466e+00  1.66476798e+00  1.70347130e+00\n",
            "  1.74217462e+00  1.78087795e+00  1.81958127e+00  1.85828459e+00\n",
            "  1.89698791e+00  1.93569123e+00  1.97439456e+00  2.01309788e+00\n",
            "  2.05180120e+00  2.09050452e+00  2.12920784e+00  2.16791117e+00\n",
            "  2.20661449e+00  2.24531781e+00  2.28402113e+00  2.32272445e+00\n",
            "  2.36142778e+00  2.40013110e+00  2.43883442e+00  2.47753774e+00\n",
            "  2.51624106e+00  2.55494439e+00  2.59364771e+00  2.63235103e+00\n",
            "  2.67105435e+00  2.70975767e+00  2.74846100e+00  2.78716432e+00\n",
            "  2.82586764e+00  2.86457096e+00  2.90327428e+00  2.94197761e+00\n",
            "  2.98068093e+00  3.01938425e+00  3.05808757e+00  3.09679089e+00\n",
            "  3.13549422e+00]\n",
            "[-4.58581852 -4.5471152  -4.50841188 -4.46970856 -4.43100524 -4.39230191\n",
            " -4.35359859 -4.31489527 -4.27619195 -4.23748863 -4.1987853  -4.16008198\n",
            " -4.12137866 -4.08267534 -4.04397202 -4.00526869 -3.96656537 -3.92786205\n",
            " -3.88915873 -3.85045541 -3.81175208 -3.77304876 -3.73434544 -3.69564212\n",
            " -3.6569388  -3.61823547 -3.57953215 -3.54082883 -3.50212551 -3.46342219\n",
            " -3.42471886 -3.38601554 -3.34731222 -3.3086089  -3.26990558 -3.23120225\n",
            " -3.19249893 -3.15379561 -3.11509229 -3.07638897 -3.03768564 -2.99898232\n",
            " -2.960279   -2.92157568 -2.88287236 -2.84416903 -2.80546571 -2.76676239\n",
            " -2.72805907 -2.68935575 -2.65065242 -2.6119491  -2.57324578 -2.53454246\n",
            " -2.49583914 -2.45713581 -2.41843249 -2.37972917 -2.34102585 -2.30232253\n",
            " -2.2636192  -2.22491588 -2.18621256 -2.14750924 -2.10880592 -2.07010259\n",
            " -2.03139927 -1.99269595 -1.95399263 -1.91528931 -1.87658598 -1.83788266\n",
            " -1.79917934 -1.76047602 -1.7217727  -1.68306937 -1.64436605 -1.60566273\n",
            " -1.56695941 -1.52825609 -1.48955276 -1.45084944 -1.41214612 -1.3734428\n",
            " -1.33473948 -1.29603615 -1.25733283 -1.21862951 -1.17992619 -1.14122287\n",
            " -1.10251954 -1.06381622 -1.0251129  -0.98640958 -0.94770626 -0.90900293\n",
            " -0.87029961 -0.83159629 -0.79289297 -0.75418965 -0.71548632 -0.676783\n",
            " -0.63807968 -0.59937636 -0.56067304 -0.52196971 -0.48326639 -0.44456307\n",
            " -0.40585975 -0.36715643 -0.3284531  -0.28974978 -0.25104646 -0.21234314\n",
            " -0.17363982 -0.13493649 -0.09623317 -0.05752985 -0.01882653  0.01987679\n",
            "  0.05858012  0.09728344  0.13598676  0.17469008  0.2133934   0.25209673\n",
            "  0.29080005  0.32950337  0.36820669  0.40691001  0.44561334  0.48431666\n",
            "  0.52301998  0.5617233   0.60042662  0.63912995  0.67783327  0.71653659\n",
            "  0.75523991  0.79394323  0.83264656  0.87134988  0.9100532   0.94875652\n",
            "  0.98745984  1.02616317  1.06486649  1.10356981  1.14227313  1.18097645\n",
            "  1.21967978  1.2583831   1.29708642  1.33578974  1.37449306  1.41319639\n",
            "  1.45189971  1.49060303  1.52930635  1.56800967  1.606713    1.64541632\n",
            "  1.68411964  1.72282296  1.76152628  1.80022961  1.83893293  1.87763625\n",
            "  1.91633957  1.95504289  1.99374622  2.03244954  2.07115286  2.10985618\n",
            "  2.1485595   2.18726283  2.22596615  2.26466947  2.30337279  2.34207611\n",
            "  2.38077944  2.41948276  2.45818608  2.4968894   2.53559272  2.57429605\n",
            "  2.61299937  2.65170269  2.69040601  2.72910933  2.76781266  2.80651598\n",
            "  2.8452193   2.88392262  2.92262594  2.96132927  3.00003259  3.03873591\n",
            "  3.07743923  3.11614255]\n"
          ]
        },
        {
          "data": {
            "image/png": "[encoded data removed]",
            "text/plain": [
              "<Figure size 640x480 with 1 Axes>"
            ]
          },
          "metadata": {},
          "output_type": "display_data"
        }
      ],
      "source": [
        "plt.hist(y, bins=50)\n",
        "print(bins)\n",
        "pdf_vals = np.exp(kd.score_samples(bins[:, np.newaxis]))\n",
        "print((bins[1:] + bins[:-1]) / 2.0)\n",
        "plt.plot((bins[1:] + bins[:-1]) / 2.0, pdf, c='r')\n",
        "plt.show()"
      ]
    },
    {
      "cell_type": "code",
      "execution_count": null,
      "metadata": {
        "id": "PHzR6E137TkA"
      },
      "outputs": [],
      "source": [
        "kd_vals = np.exp(parallel_score_samples(kd, predictions[:, np.newaxis]))\n",
        "\n",
        "plt.scatter(predictions, kd_vals, color='b')\n",
        "plt.hist(predictions, bins=30)\n",
        "\n",
        "sample_weights = np.power(1.0 / kd_vals, 1.0)\n",
        "print(sample_weights)\n",
        "#plt.scatter(y, sample_weights, color='b')\n",
        "\n",
        "from scipy import stats\n",
        "print(stats.describe(sample_weights))\n",
        "plt.scatter(predictions, sample_weights, color='r')\n",
        "\n",
        "\n",
        "#plt.scatter(predictions, sample_weights, color='b')"
      ]
    },
    {
      "cell_type": "code",
      "execution_count": null,
      "metadata": {
        "colab": {
          "base_uri": "https://localhost:8080/",
          "height": 74
        },
        "id": "4b1wwACthZ13",
        "outputId": "d8b6bb00-90d3-4052-8921-ba2a5196bf2a"
      },
      "outputs": [
        {
          "data": {
            "text/html": [
              "<style>#sk-container-id-7 {color: black;background-color: white;}#sk-container-id-7 pre{padding: 0;}#sk-container-id-7 div.sk-toggleable {background-color: white;}#sk-container-id-7 label.sk-toggleable__label {cursor: pointer;display: block;width: 100%;margin-bottom: 0;padding: 0.3em;box-sizing: border-box;text-align: center;}#sk-container-id-7 label.sk-toggleable__label-arrow:before {content: \"▸\";float: left;margin-right: 0.25em;color: #696969;}#sk-container-id-7 label.sk-toggleable__label-arrow:hover:before {color: black;}#sk-container-id-7 div.sk-estimator:hover label.sk-toggleable__label-arrow:before {color: black;}#sk-container-id-7 div.sk-toggleable__content {max-height: 0;max-width: 0;overflow: hidden;text-align: left;background-color: #f0f8ff;}#sk-container-id-7 div.sk-toggleable__content pre {margin: 0.2em;color: black;border-radius: 0.25em;background-color: #f0f8ff;}#sk-container-id-7 input.sk-toggleable__control:checked~div.sk-toggleable__content {max-height: 200px;max-width: 100%;overflow: auto;}#sk-container-id-7 input.sk-toggleable__control:checked~label.sk-toggleable__label-arrow:before {content: \"▾\";}#sk-container-id-7 div.sk-estimator input.sk-toggleable__control:checked~label.sk-toggleable__label {background-color: #d4ebff;}#sk-container-id-7 div.sk-label input.sk-toggleable__control:checked~label.sk-toggleable__label {background-color: #d4ebff;}#sk-container-id-7 input.sk-hidden--visually {border: 0;clip: rect(1px 1px 1px 1px);clip: rect(1px, 1px, 1px, 1px);height: 1px;margin: -1px;overflow: hidden;padding: 0;position: absolute;width: 1px;}#sk-container-id-7 div.sk-estimator {font-family: monospace;background-color: #f0f8ff;border: 1px dotted black;border-radius: 0.25em;box-sizing: border-box;margin-bottom: 0.5em;}#sk-container-id-7 div.sk-estimator:hover {background-color: #d4ebff;}#sk-container-id-7 div.sk-parallel-item::after {content: \"\";width: 100%;border-bottom: 1px solid gray;flex-grow: 1;}#sk-container-id-7 div.sk-label:hover label.sk-toggleable__label {background-color: #d4ebff;}#sk-container-id-7 div.sk-serial::before {content: \"\";position: absolute;border-left: 1px solid gray;box-sizing: border-box;top: 0;bottom: 0;left: 50%;z-index: 0;}#sk-container-id-7 div.sk-serial {display: flex;flex-direction: column;align-items: center;background-color: white;padding-right: 0.2em;padding-left: 0.2em;position: relative;}#sk-container-id-7 div.sk-item {position: relative;z-index: 1;}#sk-container-id-7 div.sk-parallel {display: flex;align-items: stretch;justify-content: center;background-color: white;position: relative;}#sk-container-id-7 div.sk-item::before, #sk-container-id-7 div.sk-parallel-item::before {content: \"\";position: absolute;border-left: 1px solid gray;box-sizing: border-box;top: 0;bottom: 0;left: 50%;z-index: -1;}#sk-container-id-7 div.sk-parallel-item {display: flex;flex-direction: column;z-index: 1;position: relative;background-color: white;}#sk-container-id-7 div.sk-parallel-item:first-child::after {align-self: flex-end;width: 50%;}#sk-container-id-7 div.sk-parallel-item:last-child::after {align-self: flex-start;width: 50%;}#sk-container-id-7 div.sk-parallel-item:only-child::after {width: 0;}#sk-container-id-7 div.sk-dashed-wrapped {border: 1px dashed gray;margin: 0 0.4em 0.5em 0.4em;box-sizing: border-box;padding-bottom: 0.4em;background-color: white;}#sk-container-id-7 div.sk-label label {font-family: monospace;font-weight: bold;display: inline-block;line-height: 1.2em;}#sk-container-id-7 div.sk-label-container {text-align: center;}#sk-container-id-7 div.sk-container {/* jupyter's `normalize.less` sets `[hidden] { display: none; }` but bootstrap.min.css set `[hidden] { display: none !important; }` so we also need the `!important` here to be able to override the default hidden behavior on the sphinx rendered scikit-learn.org. See: https://github.com/scikit-learn/scikit-learn/issues/21755 */display: inline-block !important;position: relative;}#sk-container-id-7 div.sk-text-repr-fallback {display: none;}</style><div id=\"sk-container-id-7\" class=\"sk-top-container\"><div class=\"sk-text-repr-fallback\"><pre>LinearRegression()</pre><b>In a Jupyter environment, please rerun this cell to show the HTML representation or trust the notebook. <br />On GitHub, the HTML representation is unable to render, please try loading this page with nbviewer.org.</b></div><div class=\"sk-container\" hidden><div class=\"sk-item\"><div class=\"sk-estimator sk-toggleable\"><input class=\"sk-toggleable__control sk-hidden--visually\" id=\"sk-estimator-id-7\" type=\"checkbox\" checked><label for=\"sk-estimator-id-7\" class=\"sk-toggleable__label sk-toggleable__label-arrow\">LinearRegression</label><div class=\"sk-toggleable__content\"><pre>LinearRegression()</pre></div></div></div></div></div>"
            ],
            "text/plain": [
              "LinearRegression()"
            ]
          },
          "execution_count": 104,
          "metadata": {},
          "output_type": "execute_result"
        }
      ],
      "source": [
        "lin_reg.fit(test_X, test_y, sample_weight=sample_weights)"
      ]
    },
    {
      "cell_type": "code",
      "execution_count": null,
      "metadata": {
        "id": "rGoQVgOohu1o"
      },
      "outputs": [],
      "source": [
        "kernel_smoothed_preds = lin_reg.predict(test_X)"
      ]
    },
    {
      "cell_type": "code",
      "execution_count": null,
      "metadata": {
        "colab": {
          "base_uri": "https://localhost:8080/"
        },
        "id": "iar0pckdh4WS",
        "outputId": "d3e89034-ab24-4232-8919-2f926579a0b1"
      },
      "outputs": [
        {
          "name": "stdout",
          "output_type": "stream",
          "text": [
            "0.8943605985133756\n"
          ]
        }
      ],
      "source": [
        "from scipy.stats import spearmanr\n",
        "\n",
        "coef, p = spearmanr(kernel_smoothed_preds, test_y)\n",
        "print(coef)"
      ]
    },
    {
      "cell_type": "code",
      "execution_count": null,
      "metadata": {
        "colab": {
          "base_uri": "https://localhost:8080/",
          "height": 450
        },
        "id": "-rkZfZBmiGSE",
        "outputId": "f56b9b2c-41ef-4f95-b10e-43455256fe7b"
      },
      "outputs": [
        {
          "data": {
            "image/png": "[encoded data removed]",
            "text/plain": [
              "<Figure size 640x480 with 1 Axes>"
            ]
          },
          "metadata": {},
          "output_type": "display_data"
        }
      ],
      "source": [
        "k_errors = test_y - kernel_smoothed_preds\n",
        "errors = test_y - predictions\n",
        "plt.scatter(test_y, errors, c='r', s=0.1)\n",
        "plt.scatter(test_y, k_errors, c='b', s=0.1)\n",
        "\n",
        "plt.xlabel('y')\n",
        "plt.ylabel('Errors')\n",
        "plt.show()"
      ]
    },
    {
      "cell_type": "code",
      "execution_count": null,
      "metadata": {
        "colab": {
          "base_uri": "https://localhost:8080/"
        },
        "id": "sS1RGfhxK1U0",
        "outputId": "e76fe844-87b9-43cc-fe79-34cf97128fa3"
      },
      "outputs": [
        {
          "name": "stdout",
          "output_type": "stream",
          "text": [
            "0.9897389921854038\n",
            "0.6682121124311794\n"
          ]
        }
      ],
      "source": [
        "print(calc_ndcg(test_y, predictions))\n",
        "print(calc_toprecall(test_y, predictions))"
      ]
    }
  ],
  "metadata": {
    "colab": {
      "provenance": []
    },
    "kernelspec": {
      "display_name": "Python 3",
      "name": "python3"
    },
    "language_info": {
      "codemirror_mode": {
        "name": "ipython",
        "version": 3
      },
      "file_extension": ".py",
      "mimetype": "text/x-python",
      "name": "python",
      "nbconvert_exporter": "python",
      "pygments_lexer": "ipython3",
      "version": "3.11.9"
    }
  },
  "nbformat": 4,
  "nbformat_minor": 0
}
