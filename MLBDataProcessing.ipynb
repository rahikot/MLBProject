{
 "cells": [
  {
   "cell_type": "code",
   "execution_count": 48,
   "metadata": {},
   "outputs": [
    {
     "data": {
      "text/html": [
       "<div>\n",
       "<style scoped>\n",
       "    .dataframe tbody tr th:only-of-type {\n",
       "        vertical-align: middle;\n",
       "    }\n",
       "\n",
       "    .dataframe tbody tr th {\n",
       "        vertical-align: top;\n",
       "    }\n",
       "\n",
       "    .dataframe thead th {\n",
       "        text-align: right;\n",
       "    }\n",
       "</style>\n",
       "<table border=\"1\" class=\"dataframe\">\n",
       "  <thead>\n",
       "    <tr style=\"text-align: right;\">\n",
       "      <th></th>\n",
       "      <th>mutant</th>\n",
       "      <th>mutated_sequence</th>\n",
       "      <th>DMS_score</th>\n",
       "      <th>DMS_score_bin</th>\n",
       "      <th>DMS_bin_score</th>\n",
       "    </tr>\n",
       "  </thead>\n",
       "  <tbody>\n",
       "    <tr>\n",
       "      <th>0</th>\n",
       "      <td>A16C</td>\n",
       "      <td>MRKLSDELLIESYFKCTEMNLNRDFIELIENEIKRRSLGHIISV</td>\n",
       "      <td>1.232103</td>\n",
       "      <td>1</td>\n",
       "      <td>NaN</td>\n",
       "    </tr>\n",
       "    <tr>\n",
       "      <th>1</th>\n",
       "      <td>A16D</td>\n",
       "      <td>MRKLSDELLIESYFKDTEMNLNRDFIELIENEIKRRSLGHIISV</td>\n",
       "      <td>-0.127580</td>\n",
       "      <td>0</td>\n",
       "      <td>NaN</td>\n",
       "    </tr>\n",
       "    <tr>\n",
       "      <th>2</th>\n",
       "      <td>A16E</td>\n",
       "      <td>MRKLSDELLIESYFKETEMNLNRDFIELIENEIKRRSLGHIISV</td>\n",
       "      <td>0.949531</td>\n",
       "      <td>1</td>\n",
       "      <td>NaN</td>\n",
       "    </tr>\n",
       "    <tr>\n",
       "      <th>3</th>\n",
       "      <td>A16F</td>\n",
       "      <td>MRKLSDELLIESYFKFTEMNLNRDFIELIENEIKRRSLGHIISV</td>\n",
       "      <td>1.404415</td>\n",
       "      <td>1</td>\n",
       "      <td>NaN</td>\n",
       "    </tr>\n",
       "    <tr>\n",
       "      <th>4</th>\n",
       "      <td>A16G</td>\n",
       "      <td>MRKLSDELLIESYFKGTEMNLNRDFIELIENEIKRRSLGHIISV</td>\n",
       "      <td>0.872356</td>\n",
       "      <td>1</td>\n",
       "      <td>NaN</td>\n",
       "    </tr>\n",
       "  </tbody>\n",
       "</table>\n",
       "</div>"
      ],
      "text/plain": [
       "  mutant                              mutated_sequence  DMS_score  \\\n",
       "0   A16C  MRKLSDELLIESYFKCTEMNLNRDFIELIENEIKRRSLGHIISV   1.232103   \n",
       "1   A16D  MRKLSDELLIESYFKDTEMNLNRDFIELIENEIKRRSLGHIISV  -0.127580   \n",
       "2   A16E  MRKLSDELLIESYFKETEMNLNRDFIELIENEIKRRSLGHIISV   0.949531   \n",
       "3   A16F  MRKLSDELLIESYFKFTEMNLNRDFIELIENEIKRRSLGHIISV   1.404415   \n",
       "4   A16G  MRKLSDELLIESYFKGTEMNLNRDFIELIENEIKRRSLGHIISV   0.872356   \n",
       "\n",
       "   DMS_score_bin  DMS_bin_score  \n",
       "0              1            NaN  \n",
       "1              0            NaN  \n",
       "2              1            NaN  \n",
       "3              1            NaN  \n",
       "4              1            NaN  "
      ]
     },
     "execution_count": 48,
     "metadata": {},
     "output_type": "execute_result"
    }
   ],
   "source": [
    "#code to load all of the csvs in filepath to one pandas df\n",
    "import pandas as pd\n",
    "import os\n",
    "import sys\n",
    "filepath = \"/DMS_ProteinGym_substitutions\"\n",
    "os.chdir(filepath)\n",
    "files = os.listdir(filepath)\n",
    "df = pd.DataFrame()\n",
    "for file in files:\n",
    "    if file.endswith(\".csv\"):\n",
    "        data = pd.read_csv(file)\n",
    "        data['DMS_score'] = data['DMS_score'].astype(float)\n",
    "        data['DMS_score'] = (data['DMS_score'] - data['DMS_score'].mean()) / data['DMS_score'].std()\n",
    "        df = pd.concat([df, data], ignore_index=True)\n",
    "        \n",
    "df.head()\n"
   ]
  },
  {
   "cell_type": "code",
   "execution_count": 49,
   "metadata": {},
   "outputs": [
    {
     "data": {
      "text/html": [
       "<div>\n",
       "<style scoped>\n",
       "    .dataframe tbody tr th:only-of-type {\n",
       "        vertical-align: middle;\n",
       "    }\n",
       "\n",
       "    .dataframe tbody tr th {\n",
       "        vertical-align: top;\n",
       "    }\n",
       "\n",
       "    .dataframe thead th {\n",
       "        text-align: right;\n",
       "    }\n",
       "</style>\n",
       "<table border=\"1\" class=\"dataframe\">\n",
       "  <thead>\n",
       "    <tr style=\"text-align: right;\">\n",
       "      <th></th>\n",
       "      <th>DMS_score</th>\n",
       "      <th>DMS_score_bin</th>\n",
       "      <th>DMS_bin_score</th>\n",
       "    </tr>\n",
       "  </thead>\n",
       "  <tbody>\n",
       "    <tr>\n",
       "      <th>count</th>\n",
       "      <td>2.465767e+06</td>\n",
       "      <td>2.465767e+06</td>\n",
       "      <td>4670.000000</td>\n",
       "    </tr>\n",
       "    <tr>\n",
       "      <th>mean</th>\n",
       "      <td>-3.856773e-17</td>\n",
       "      <td>5.646568e-01</td>\n",
       "      <td>0.500000</td>\n",
       "    </tr>\n",
       "    <tr>\n",
       "      <th>std</th>\n",
       "      <td>9.999562e-01</td>\n",
       "      <td>4.958020e-01</td>\n",
       "      <td>0.500054</td>\n",
       "    </tr>\n",
       "    <tr>\n",
       "      <th>min</th>\n",
       "      <td>-1.006512e+01</td>\n",
       "      <td>0.000000e+00</td>\n",
       "      <td>0.000000</td>\n",
       "    </tr>\n",
       "    <tr>\n",
       "      <th>25%</th>\n",
       "      <td>-8.742485e-01</td>\n",
       "      <td>0.000000e+00</td>\n",
       "      <td>0.000000</td>\n",
       "    </tr>\n",
       "    <tr>\n",
       "      <th>50%</th>\n",
       "      <td>6.697107e-02</td>\n",
       "      <td>1.000000e+00</td>\n",
       "      <td>0.500000</td>\n",
       "    </tr>\n",
       "    <tr>\n",
       "      <th>75%</th>\n",
       "      <td>8.001611e-01</td>\n",
       "      <td>1.000000e+00</td>\n",
       "      <td>1.000000</td>\n",
       "    </tr>\n",
       "    <tr>\n",
       "      <th>max</th>\n",
       "      <td>3.183003e+01</td>\n",
       "      <td>1.000000e+00</td>\n",
       "      <td>1.000000</td>\n",
       "    </tr>\n",
       "  </tbody>\n",
       "</table>\n",
       "</div>"
      ],
      "text/plain": [
       "          DMS_score  DMS_score_bin  DMS_bin_score\n",
       "count  2.465767e+06   2.465767e+06    4670.000000\n",
       "mean  -3.856773e-17   5.646568e-01       0.500000\n",
       "std    9.999562e-01   4.958020e-01       0.500054\n",
       "min   -1.006512e+01   0.000000e+00       0.000000\n",
       "25%   -8.742485e-01   0.000000e+00       0.000000\n",
       "50%    6.697107e-02   1.000000e+00       0.500000\n",
       "75%    8.001611e-01   1.000000e+00       1.000000\n",
       "max    3.183003e+01   1.000000e+00       1.000000"
      ]
     },
     "execution_count": 49,
     "metadata": {},
     "output_type": "execute_result"
    }
   ],
   "source": [
    "df.describe()"
   ]
  },
  {
   "cell_type": "code",
   "execution_count": 50,
   "metadata": {},
   "outputs": [
    {
     "data": {
      "text/plain": [
       "<Axes: title={'center': 'DMS_score'}, xlabel='DMS_bin_score'>"
      ]
     },
     "execution_count": 50,
     "metadata": {},
     "output_type": "execute_result"
    },
    {
     "data": {
      "image/png": "[encoded data removed]",
      "text/plain": [
       "<Figure size 640x480 with 1 Axes>"
      ]
     },
     "metadata": {},
     "output_type": "display_data"
    }
   ],
   "source": [
    "#box and whisker plot of DMS_score\n",
    "import matplotlib.pyplot as plt\n",
    "df.boxplot(column = 'DMS_score', by = 'DMS_bin_score')\n",
    "\n",
    "\n",
    "\n"
   ]
  },
  {
   "cell_type": "code",
   "execution_count": 38,
   "metadata": {},
   "outputs": [
    {
     "data": {
      "text/plain": [
       "array([[<Axes: title={'center': 'DMS_score'}>]], dtype=object)"
      ]
     },
     "execution_count": 38,
     "metadata": {},
     "output_type": "execute_result"
    },
    {
     "data": {
      "image/png": "[encoded data removed]",
      "text/plain": [
       "<Figure size 640x480 with 1 Axes>"
      ]
     },
     "metadata": {},
     "output_type": "display_data"
    }
   ],
   "source": [
    "#histogram of Dms_score\n",
    "\n",
    "df.hist(column='DMS_score', bins=5)\n"
   ]
  },
  {
   "cell_type": "code",
   "execution_count": 51,
   "metadata": {},
   "outputs": [
    {
     "data": {
      "text/html": [
       "<div>\n",
       "<style scoped>\n",
       "    .dataframe tbody tr th:only-of-type {\n",
       "        vertical-align: middle;\n",
       "    }\n",
       "\n",
       "    .dataframe tbody tr th {\n",
       "        vertical-align: top;\n",
       "    }\n",
       "\n",
       "    .dataframe thead th {\n",
       "        text-align: right;\n",
       "    }\n",
       "</style>\n",
       "<table border=\"1\" class=\"dataframe\">\n",
       "  <thead>\n",
       "    <tr style=\"text-align: right;\">\n",
       "      <th></th>\n",
       "      <th>Unnamed: 0</th>\n",
       "      <th>protein</th>\n",
       "      <th>protein_sequence</th>\n",
       "      <th>mutant</th>\n",
       "      <th>mutated_sequence</th>\n",
       "      <th>DMS_bin_score</th>\n",
       "    </tr>\n",
       "  </thead>\n",
       "  <tbody>\n",
       "    <tr>\n",
       "      <th>0</th>\n",
       "      <td>43555</td>\n",
       "      <td>NP_006205.1</td>\n",
       "      <td>MEQLRAAARLQIVLGHLGRPSAGAVVAHPTSGTISSASFHPQQFQY...</td>\n",
       "      <td>R327Q</td>\n",
       "      <td>MEQLRAAARLQIVLGHLGRPSAGAVVAHPTSGTISSASFHPQQFQY...</td>\n",
       "      <td>Benign</td>\n",
       "    </tr>\n",
       "    <tr>\n",
       "      <th>1</th>\n",
       "      <td>43556</td>\n",
       "      <td>NP_006205.1</td>\n",
       "      <td>MEQLRAAARLQIVLGHLGRPSAGAVVAHPTSGTISSASFHPQQFQY...</td>\n",
       "      <td>A277E</td>\n",
       "      <td>MEQLRAAARLQIVLGHLGRPSAGAVVAHPTSGTISSASFHPQQFQY...</td>\n",
       "      <td>Pathogenic</td>\n",
       "    </tr>\n",
       "    <tr>\n",
       "      <th>2</th>\n",
       "      <td>43557</td>\n",
       "      <td>NP_006205.1</td>\n",
       "      <td>MEQLRAAARLQIVLGHLGRPSAGAVVAHPTSGTISSASFHPQQFQY...</td>\n",
       "      <td>R275Q</td>\n",
       "      <td>MEQLRAAARLQIVLGHLGRPSAGAVVAHPTSGTISSASFHPQQFQY...</td>\n",
       "      <td>Pathogenic</td>\n",
       "    </tr>\n",
       "    <tr>\n",
       "      <th>3</th>\n",
       "      <td>43558</td>\n",
       "      <td>NP_006205.1</td>\n",
       "      <td>MEQLRAAARLQIVLGHLGRPSAGAVVAHPTSGTISSASFHPQQFQY...</td>\n",
       "      <td>R275W</td>\n",
       "      <td>MEQLRAAARLQIVLGHLGRPSAGAVVAHPTSGTISSASFHPQQFQY...</td>\n",
       "      <td>Pathogenic</td>\n",
       "    </tr>\n",
       "    <tr>\n",
       "      <th>4</th>\n",
       "      <td>43559</td>\n",
       "      <td>NP_006205.1</td>\n",
       "      <td>MEQLRAAARLQIVLGHLGRPSAGAVVAHPTSGTISSASFHPQQFQY...</td>\n",
       "      <td>G215S</td>\n",
       "      <td>MEQLRAAARLQIVLGHLGRPSAGAVVAHPTSGTISSASFHPQQFQY...</td>\n",
       "      <td>Benign</td>\n",
       "    </tr>\n",
       "  </tbody>\n",
       "</table>\n",
       "</div>"
      ],
      "text/plain": [
       "   Unnamed: 0      protein                                   protein_sequence  \\\n",
       "0       43555  NP_006205.1  MEQLRAAARLQIVLGHLGRPSAGAVVAHPTSGTISSASFHPQQFQY...   \n",
       "1       43556  NP_006205.1  MEQLRAAARLQIVLGHLGRPSAGAVVAHPTSGTISSASFHPQQFQY...   \n",
       "2       43557  NP_006205.1  MEQLRAAARLQIVLGHLGRPSAGAVVAHPTSGTISSASFHPQQFQY...   \n",
       "3       43558  NP_006205.1  MEQLRAAARLQIVLGHLGRPSAGAVVAHPTSGTISSASFHPQQFQY...   \n",
       "4       43559  NP_006205.1  MEQLRAAARLQIVLGHLGRPSAGAVVAHPTSGTISSASFHPQQFQY...   \n",
       "\n",
       "  mutant                                   mutated_sequence DMS_bin_score  \n",
       "0  R327Q  MEQLRAAARLQIVLGHLGRPSAGAVVAHPTSGTISSASFHPQQFQY...        Benign  \n",
       "1  A277E  MEQLRAAARLQIVLGHLGRPSAGAVVAHPTSGTISSASFHPQQFQY...    Pathogenic  \n",
       "2  R275Q  MEQLRAAARLQIVLGHLGRPSAGAVVAHPTSGTISSASFHPQQFQY...    Pathogenic  \n",
       "3  R275W  MEQLRAAARLQIVLGHLGRPSAGAVVAHPTSGTISSASFHPQQFQY...    Pathogenic  \n",
       "4  G215S  MEQLRAAARLQIVLGHLGRPSAGAVVAHPTSGTISSASFHPQQFQY...        Benign  "
      ]
     },
     "execution_count": 51,
     "metadata": {},
     "output_type": "execute_result"
    }
   ],
   "source": [
    "filepath = \"/Clinical_ProteinGym_substitutions\"\n",
    "os.chdir(filepath)\n",
    "files = os.listdir(filepath)\n",
    "df = pd.DataFrame()\n",
    "for file in files:\n",
    "    if file.endswith(\".csv\"):\n",
    "        data = pd.read_csv(file)\n",
    "        df = pd.concat([df, data], ignore_index=True)\n",
    "        \n",
    "df.head()\n"
   ]
  },
  {
   "cell_type": "code",
   "execution_count": 52,
   "metadata": {},
   "outputs": [
    {
     "data": {
      "text/plain": [
       "DMS_bin_score\n",
       "Pathogenic    32000\n",
       "Benign        30727\n",
       "Name: count, dtype: int64"
      ]
     },
     "execution_count": 52,
     "metadata": {},
     "output_type": "execute_result"
    }
   ],
   "source": [
    "df.value_counts('DMS_bin_score')"
   ]
  }
 ],
 "metadata": {
  "kernelspec": {
   "display_name": "base",
   "language": "python",
   "name": "python3"
  },
  "language_info": {
   "codemirror_mode": {
    "name": "ipython",
    "version": 3
   },
   "file_extension": ".py",
   "mimetype": "text/x-python",
   "name": "python",
   "nbconvert_exporter": "python",
   "pygments_lexer": "ipython3",
   "version": "3.10.8"
  }
 },
 "nbformat": 4,
 "nbformat_minor": 2
}
