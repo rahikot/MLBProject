{
 "cells": [
  {
   "cell_type": "code",
   "execution_count": 1,
   "metadata": {},
   "outputs": [
    {
     "name": "stderr",
     "output_type": "stream",
     "text": [
      "100%|██████████| 12/12 [00:04<00:00,  2.80it/s]\n"
     ]
    },
    {
     "data": {
      "text/html": [
       "<div>\n",
       "<style scoped>\n",
       "    .dataframe tbody tr th:only-of-type {\n",
       "        vertical-align: middle;\n",
       "    }\n",
       "\n",
       "    .dataframe tbody tr th {\n",
       "        vertical-align: top;\n",
       "    }\n",
       "\n",
       "    .dataframe thead th {\n",
       "        text-align: right;\n",
       "    }\n",
       "</style>\n",
       "<table border=\"1\" class=\"dataframe\">\n",
       "  <thead>\n",
       "    <tr style=\"text-align: right;\">\n",
       "      <th></th>\n",
       "      <th>mutant</th>\n",
       "      <th>mutated_sequence</th>\n",
       "      <th>DMS_score</th>\n",
       "      <th>DMS_score_bin</th>\n",
       "    </tr>\n",
       "  </thead>\n",
       "  <tbody>\n",
       "    <tr>\n",
       "      <th>0</th>\n",
       "      <td>V265M:D266A:G267E:V280Q</td>\n",
       "      <td>MEKEKKVKYFLRKSAFGLASVSAAFLVGSTVFAVDSPIEDTPIIRN...</td>\n",
       "      <td>-0.188136</td>\n",
       "      <td>0</td>\n",
       "    </tr>\n",
       "    <tr>\n",
       "      <th>1</th>\n",
       "      <td>V265D:D266M:G267T:V280S</td>\n",
       "      <td>MEKEKKVKYFLRKSAFGLASVSAAFLVGSTVFAVDSPIEDTPIIRN...</td>\n",
       "      <td>-0.213132</td>\n",
       "      <td>0</td>\n",
       "    </tr>\n",
       "    <tr>\n",
       "      <th>2</th>\n",
       "      <td>V265Q:D266A:G267W:V280N</td>\n",
       "      <td>MEKEKKVKYFLRKSAFGLASVSAAFLVGSTVFAVDSPIEDTPIIRN...</td>\n",
       "      <td>-0.198717</td>\n",
       "      <td>0</td>\n",
       "    </tr>\n",
       "    <tr>\n",
       "      <th>3</th>\n",
       "      <td>D266V:G267M:V280H</td>\n",
       "      <td>MEKEKKVKYFLRKSAFGLASVSAAFLVGSTVFAVDSPIEDTPIIRN...</td>\n",
       "      <td>-0.203497</td>\n",
       "      <td>0</td>\n",
       "    </tr>\n",
       "    <tr>\n",
       "      <th>4</th>\n",
       "      <td>V265F:D266I:G267T:V280K</td>\n",
       "      <td>MEKEKKVKYFLRKSAFGLASVSAAFLVGSTVFAVDSPIEDTPIIRN...</td>\n",
       "      <td>-0.213132</td>\n",
       "      <td>0</td>\n",
       "    </tr>\n",
       "  </tbody>\n",
       "</table>\n",
       "</div>"
      ],
      "text/plain": [
       "                    mutant                                   mutated_sequence  \\\n",
       "0  V265M:D266A:G267E:V280Q  MEKEKKVKYFLRKSAFGLASVSAAFLVGSTVFAVDSPIEDTPIIRN...   \n",
       "1  V265D:D266M:G267T:V280S  MEKEKKVKYFLRKSAFGLASVSAAFLVGSTVFAVDSPIEDTPIIRN...   \n",
       "2  V265Q:D266A:G267W:V280N  MEKEKKVKYFLRKSAFGLASVSAAFLVGSTVFAVDSPIEDTPIIRN...   \n",
       "3        D266V:G267M:V280H  MEKEKKVKYFLRKSAFGLASVSAAFLVGSTVFAVDSPIEDTPIIRN...   \n",
       "4  V265F:D266I:G267T:V280K  MEKEKKVKYFLRKSAFGLASVSAAFLVGSTVFAVDSPIEDTPIIRN...   \n",
       "\n",
       "   DMS_score  DMS_score_bin  \n",
       "0  -0.188136              0  \n",
       "1  -0.213132              0  \n",
       "2  -0.198717              0  \n",
       "3  -0.203497              0  \n",
       "4  -0.213132              0  "
      ]
     },
     "execution_count": 1,
     "metadata": {},
     "output_type": "execute_result"
    }
   ],
   "source": [
    "#code to load all of the csvs in filepath to one pandas df\n",
    "import pandas as pd\n",
    "import os\n",
    "import sys\n",
    "import tqdm\n",
    "import matplotlib.pyplot as plt\n",
    "root = sys.path[0]\n",
    "filepath = os.path.join(root, \"data/combined\")\n",
    "files = [os.path.join(filepath, file) for file in os.listdir(filepath)]\n",
    "df = pd.DataFrame()\n",
    "for file in tqdm.tqdm(files):\n",
    "    if file.endswith(\".csv\"):\n",
    "        data = pd.read_csv(file)\n",
    "        data['DMS_score'] = data['DMS_score'].astype(float)\n",
    "        data['DMS_score'] = (data['DMS_score'] - data['DMS_score'].mean()) / data['DMS_score'].std()\n",
    "        df = pd.concat([df, data], ignore_index=True)\n",
    "        \n",
    "df.head()\n"
   ]
  },
  {
   "cell_type": "code",
   "execution_count": 2,
   "metadata": {},
   "outputs": [
    {
     "data": {
      "text/plain": [
       "DMS_score_bin\n",
       "1    1013577\n",
       "0     770353\n",
       "Name: count, dtype: int64"
      ]
     },
     "execution_count": 2,
     "metadata": {},
     "output_type": "execute_result"
    }
   ],
   "source": [
    "def load_model_and_dataset(name: str):\n",
    "    model=torch"
   ]
  },
  {
   "cell_type": "code",
   "execution_count": 3,
   "metadata": {},
   "outputs": [
    {
     "data": {
      "text/html": [
       "<div>\n",
       "<style scoped>\n",
       "    .dataframe tbody tr th:only-of-type {\n",
       "        vertical-align: middle;\n",
       "    }\n",
       "\n",
       "    .dataframe tbody tr th {\n",
       "        vertical-align: top;\n",
       "    }\n",
       "\n",
       "    .dataframe thead th {\n",
       "        text-align: right;\n",
       "    }\n",
       "</style>\n",
       "<table border=\"1\" class=\"dataframe\">\n",
       "  <thead>\n",
       "    <tr style=\"text-align: right;\">\n",
       "      <th></th>\n",
       "      <th>DMS_score</th>\n",
       "      <th>DMS_score_bin</th>\n",
       "    </tr>\n",
       "  </thead>\n",
       "  <tbody>\n",
       "    <tr>\n",
       "      <th>count</th>\n",
       "      <td>1.783930e+06</td>\n",
       "      <td>1.783930e+06</td>\n",
       "    </tr>\n",
       "    <tr>\n",
       "      <th>mean</th>\n",
       "      <td>2.291431e-17</td>\n",
       "      <td>5.681708e-01</td>\n",
       "    </tr>\n",
       "    <tr>\n",
       "      <th>std</th>\n",
       "      <td>9.999969e-01</td>\n",
       "      <td>4.953311e-01</td>\n",
       "    </tr>\n",
       "    <tr>\n",
       "      <th>min</th>\n",
       "      <td>-1.170422e+01</td>\n",
       "      <td>0.000000e+00</td>\n",
       "    </tr>\n",
       "    <tr>\n",
       "      <th>25%</th>\n",
       "      <td>-8.808887e-01</td>\n",
       "      <td>0.000000e+00</td>\n",
       "    </tr>\n",
       "    <tr>\n",
       "      <th>50%</th>\n",
       "      <td>1.014257e-01</td>\n",
       "      <td>1.000000e+00</td>\n",
       "    </tr>\n",
       "    <tr>\n",
       "      <th>75%</th>\n",
       "      <td>8.305500e-01</td>\n",
       "      <td>1.000000e+00</td>\n",
       "    </tr>\n",
       "    <tr>\n",
       "      <th>max</th>\n",
       "      <td>4.831746e+01</td>\n",
       "      <td>1.000000e+00</td>\n",
       "    </tr>\n",
       "  </tbody>\n",
       "</table>\n",
       "</div>"
      ],
      "text/plain": [
       "          DMS_score  DMS_score_bin\n",
       "count  1.783930e+06   1.783930e+06\n",
       "mean   2.291431e-17   5.681708e-01\n",
       "std    9.999969e-01   4.953311e-01\n",
       "min   -1.170422e+01   0.000000e+00\n",
       "25%   -8.808887e-01   0.000000e+00\n",
       "50%    1.014257e-01   1.000000e+00\n",
       "75%    8.305500e-01   1.000000e+00\n",
       "max    4.831746e+01   1.000000e+00"
      ]
     },
     "execution_count": 3,
     "metadata": {},
     "output_type": "execute_result"
    }
   ],
   "source": [
    "df.describe()"
   ]
  },
  {
   "cell_type": "code",
   "execution_count": 5,
   "metadata": {},
   "outputs": [
    {
     "data": {
      "image/png": "[encoded data removed]",
      "text/plain": [
       "<Figure size 640x480 with 1 Axes>"
      ]
     },
     "metadata": {},
     "output_type": "display_data"
    }
   ],
   "source": [
    "#box and whisker plot of DMS_score\n",
    "df.boxplot(column = 'DMS_score', by = 'DMS_score_bin')\n",
    "plt.show()"
   ]
  },
  {
   "cell_type": "code",
   "execution_count": 7,
   "metadata": {},
   "outputs": [
    {
     "data": {
      "image/png": "[encoded data removed]",
      "text/plain": [
       "<Figure size 640x480 with 1 Axes>"
      ]
     },
     "metadata": {},
     "output_type": "display_data"
    }
   ],
   "source": [
    "#histogram of Dms_score\n",
    "\n",
    "df.hist(column='DMS_score', bins=5)\n",
    "plt.show()\n"
   ]
  },
  {
   "cell_type": "code",
   "execution_count": 51,
   "metadata": {},
   "outputs": [
    {
     "data": {
      "text/html": [
       "<div>\n",
       "<style scoped>\n",
       "    .dataframe tbody tr th:only-of-type {\n",
       "        vertical-align: middle;\n",
       "    }\n",
       "\n",
       "    .dataframe tbody tr th {\n",
       "        vertical-align: top;\n",
       "    }\n",
       "\n",
       "    .dataframe thead th {\n",
       "        text-align: right;\n",
       "    }\n",
       "</style>\n",
       "<table border=\"1\" class=\"dataframe\">\n",
       "  <thead>\n",
       "    <tr style=\"text-align: right;\">\n",
       "      <th></th>\n",
       "      <th>Unnamed: 0</th>\n",
       "      <th>protein</th>\n",
       "      <th>protein_sequence</th>\n",
       "      <th>mutant</th>\n",
       "      <th>mutated_sequence</th>\n",
       "      <th>DMS_bin_score</th>\n",
       "    </tr>\n",
       "  </thead>\n",
       "  <tbody>\n",
       "    <tr>\n",
       "      <th>0</th>\n",
       "      <td>43555</td>\n",
       "      <td>NP_006205.1</td>\n",
       "      <td>MEQLRAAARLQIVLGHLGRPSAGAVVAHPTSGTISSASFHPQQFQY...</td>\n",
       "      <td>R327Q</td>\n",
       "      <td>MEQLRAAARLQIVLGHLGRPSAGAVVAHPTSGTISSASFHPQQFQY...</td>\n",
       "      <td>Benign</td>\n",
       "    </tr>\n",
       "    <tr>\n",
       "      <th>1</th>\n",
       "      <td>43556</td>\n",
       "      <td>NP_006205.1</td>\n",
       "      <td>MEQLRAAARLQIVLGHLGRPSAGAVVAHPTSGTISSASFHPQQFQY...</td>\n",
       "      <td>A277E</td>\n",
       "      <td>MEQLRAAARLQIVLGHLGRPSAGAVVAHPTSGTISSASFHPQQFQY...</td>\n",
       "      <td>Pathogenic</td>\n",
       "    </tr>\n",
       "    <tr>\n",
       "      <th>2</th>\n",
       "      <td>43557</td>\n",
       "      <td>NP_006205.1</td>\n",
       "      <td>MEQLRAAARLQIVLGHLGRPSAGAVVAHPTSGTISSASFHPQQFQY...</td>\n",
       "      <td>R275Q</td>\n",
       "      <td>MEQLRAAARLQIVLGHLGRPSAGAVVAHPTSGTISSASFHPQQFQY...</td>\n",
       "      <td>Pathogenic</td>\n",
       "    </tr>\n",
       "    <tr>\n",
       "      <th>3</th>\n",
       "      <td>43558</td>\n",
       "      <td>NP_006205.1</td>\n",
       "      <td>MEQLRAAARLQIVLGHLGRPSAGAVVAHPTSGTISSASFHPQQFQY...</td>\n",
       "      <td>R275W</td>\n",
       "      <td>MEQLRAAARLQIVLGHLGRPSAGAVVAHPTSGTISSASFHPQQFQY...</td>\n",
       "      <td>Pathogenic</td>\n",
       "    </tr>\n",
       "    <tr>\n",
       "      <th>4</th>\n",
       "      <td>43559</td>\n",
       "      <td>NP_006205.1</td>\n",
       "      <td>MEQLRAAARLQIVLGHLGRPSAGAVVAHPTSGTISSASFHPQQFQY...</td>\n",
       "      <td>G215S</td>\n",
       "      <td>MEQLRAAARLQIVLGHLGRPSAGAVVAHPTSGTISSASFHPQQFQY...</td>\n",
       "      <td>Benign</td>\n",
       "    </tr>\n",
       "  </tbody>\n",
       "</table>\n",
       "</div>"
      ],
      "text/plain": [
       "   Unnamed: 0      protein                                   protein_sequence  \\\n",
       "0       43555  NP_006205.1  MEQLRAAARLQIVLGHLGRPSAGAVVAHPTSGTISSASFHPQQFQY...   \n",
       "1       43556  NP_006205.1  MEQLRAAARLQIVLGHLGRPSAGAVVAHPTSGTISSASFHPQQFQY...   \n",
       "2       43557  NP_006205.1  MEQLRAAARLQIVLGHLGRPSAGAVVAHPTSGTISSASFHPQQFQY...   \n",
       "3       43558  NP_006205.1  MEQLRAAARLQIVLGHLGRPSAGAVVAHPTSGTISSASFHPQQFQY...   \n",
       "4       43559  NP_006205.1  MEQLRAAARLQIVLGHLGRPSAGAVVAHPTSGTISSASFHPQQFQY...   \n",
       "\n",
       "  mutant                                   mutated_sequence DMS_bin_score  \n",
       "0  R327Q  MEQLRAAARLQIVLGHLGRPSAGAVVAHPTSGTISSASFHPQQFQY...        Benign  \n",
       "1  A277E  MEQLRAAARLQIVLGHLGRPSAGAVVAHPTSGTISSASFHPQQFQY...    Pathogenic  \n",
       "2  R275Q  MEQLRAAARLQIVLGHLGRPSAGAVVAHPTSGTISSASFHPQQFQY...    Pathogenic  \n",
       "3  R275W  MEQLRAAARLQIVLGHLGRPSAGAVVAHPTSGTISSASFHPQQFQY...    Pathogenic  \n",
       "4  G215S  MEQLRAAARLQIVLGHLGRPSAGAVVAHPTSGTISSASFHPQQFQY...        Benign  "
      ]
     },
     "execution_count": 51,
     "metadata": {},
     "output_type": "execute_result"
    }
   ],
   "source": [
    "filepath = \"/Clinical_ProteinGym_substitutions\"\n",
    "os.chdir(filepath)\n",
    "files = os.listdir(filepath)\n",
    "df = pd.DataFrame()\n",
    "for file in files:\n",
    "    if file.endswith(\".csv\"):\n",
    "        data = pd.read_csv(file)\n",
    "        df = pd.concat([df, data], ignore_index=True)\n",
    "        \n",
    "df.head()\n"
   ]
  },
  {
   "cell_type": "code",
   "execution_count": 52,
   "metadata": {},
   "outputs": [
    {
     "data": {
      "text/plain": [
       "DMS_bin_score\n",
       "Pathogenic    32000\n",
       "Benign        30727\n",
       "Name: count, dtype: int64"
      ]
     },
     "execution_count": 52,
     "metadata": {},
     "output_type": "execute_result"
    }
   ],
   "source": [
    "df.value_counts('DMS_bin_score')"
   ]
  },
  {
   "cell_type": "code",
   "execution_count": 8,
   "metadata": {},
   "outputs": [],
   "source": [
    "import torch"
   ]
  },
  {
   "cell_type": "code",
   "execution_count": 11,
   "metadata": {},
   "outputs": [],
   "source": [
    "chen_dataset = torch.load(f'{root}/data/datasets/Chen_train.pt')"
   ]
  },
  {
   "cell_type": "code",
   "execution_count": 13,
   "metadata": {},
   "outputs": [
    {
     "data": {
      "text/plain": [
       "(tensor([[-0.1569, -0.2963,  0.3784,  ...,  0.6169,  0.0592, -0.1477],\n",
       "         [-0.1646, -0.2887,  0.4140,  ...,  0.6036,  0.0710, -0.1320],\n",
       "         [-0.1469, -0.2836,  0.3796,  ...,  0.5760,  0.0463, -0.1025],\n",
       "         ...,\n",
       "         [-0.1437, -0.2978,  0.4012,  ...,  0.5922,  0.0646, -0.1144],\n",
       "         [-0.1730, -0.3039,  0.3847,  ...,  0.6103,  0.0581, -0.1427],\n",
       "         [-0.1354, -0.2911,  0.3731,  ...,  0.5813,  0.0492, -0.1030]],\n",
       "        device='cuda:0'),\n",
       " tensor([[1.0001],\n",
       "         [0.4801],\n",
       "         [0.4593],\n",
       "         ...,\n",
       "         [1.2028],\n",
       "         [0.1441],\n",
       "         [0.5663]]))"
      ]
     },
     "execution_count": 13,
     "metadata": {},
     "output_type": "execute_result"
    }
   ],
   "source": [
    "chen_dataset.tensors"
   ]
  },
  {
   "cell_type": "code",
   "execution_count": 14,
   "metadata": {},
   "outputs": [],
   "source": [
    "chen_emb = torch.load(f'{root}/data/embeddings/Chen_train_seq.pt')"
   ]
  },
  {
   "cell_type": "code",
   "execution_count": 15,
   "metadata": {},
   "outputs": [
    {
     "data": {
      "text/plain": [
       "tensor([[-0.1569, -0.2963,  0.3784,  ...,  0.6169,  0.0592, -0.1477],\n",
       "        [-0.1646, -0.2887,  0.4140,  ...,  0.6036,  0.0710, -0.1320],\n",
       "        [-0.1469, -0.2836,  0.3796,  ...,  0.5760,  0.0463, -0.1025],\n",
       "        ...,\n",
       "        [-0.1437, -0.2978,  0.4012,  ...,  0.5922,  0.0646, -0.1144],\n",
       "        [-0.1730, -0.3039,  0.3847,  ...,  0.6103,  0.0581, -0.1427],\n",
       "        [-0.1354, -0.2911,  0.3731,  ...,  0.5813,  0.0492, -0.1030]],\n",
       "       device='cuda:0')"
      ]
     },
     "execution_count": 15,
     "metadata": {},
     "output_type": "execute_result"
    }
   ],
   "source": [
    "chen_emb"
   ]
  },
  {
   "cell_type": "code",
   "execution_count": 16,
   "metadata": {},
   "outputs": [],
   "source": [
    "chen_model = torch.load(f'{root}/Rank-N-Contrast/save/Chen_models/RnC_Chen_RepEnc_ep_400_lr_0.5_d_0.1_wd_0.0001_mmt_0.5_bsz_256_aug_crop,flip,color,grayscale_temp_2_label_l1_feature_l2_trial_0/curr_last.pth')"
   ]
  },
  {
   "cell_type": "code",
   "execution_count": 31,
   "metadata": {},
   "outputs": [],
   "source": [
    "from rank_n_contrast.model import RepresentationEncoder\n",
    "# Adapted from Rank-N-Contrast code\n",
    "\n",
    "NAMED_MODEL_PATHS = {\n",
    "    \"chen\": f\"{root}/rank_n_contrast/save/Chen_models/RnC_Chen_RepEnc_ep_400_lr_0.5_d_0.1_wd_0.0001_mmt_0.5_bsz_256_aug_crop,flip,color,grayscale_temp_2_label_l1_feature_l2_trial_0/curr_last.pth\",\n",
    "    \"olson\": f\"{root}/rank_n_contrast/save/Olson_models/RnC_Olson_RepEnc_ep_200_lr_0.0003_d_0.1_wd_0.0001_mmt_0.5_bsz_256_aug_crop,flip,color,grayscale_temp_2_label_l1_feature_l2_trial_0/curr_last.pth\",\n",
    "    \"tsuboyama\": f\"{root}/rank_n_contrast/save/Tsuboyama_models/RnC_Tsuboyama_RepEnc_ep_400_lr_0.5_d_0.1_wd_0.0001_mmt_0.5_bsz_256_aug_crop,flip,color,grayscale_temp_2_label_l1_feature_l2_trial_0/ckpt_epoch_100.pth\"\n",
    "}\n",
    "\n",
    "def set_model(name: str = \"chen\"):\n",
    "    model = RepresentationEncoder()\n",
    "\n",
    "    if torch.cuda.is_available():\n",
    "        if torch.cuda.device_count() > 1:\n",
    "            model.encoder = torch.nn.DataParallel(model.encoder)\n",
    "        model = model.cuda()\n",
    "        torch.backends.cudnn.benchmark = True\n",
    "    model_state_dict= torch.load(NAMED_MODEL_PATHS[name])\n",
    "    model.load_state_dict(model_state_dict['model'])\n",
    "\n",
    "    return model"
   ]
  },
  {
   "cell_type": "code",
   "execution_count": 36,
   "metadata": {},
   "outputs": [],
   "source": [
    "def load_dataset_embedding_and_model(name: str, train: bool = True):\n",
    "    model = set_model(name)\n",
    "    if train:\n",
    "        dataset = torch.load(f'{root}/data/datasets/{name.title()}_train.pt')\n",
    "        embedding = torch.load(f'{root}/data/embeddings/{name.title()}_train_seq.pt')\n",
    "    else:\n",
    "        dataset = torch.load(f'{root}/data/datasets/{name.title()}_test.pt')\n",
    "        embedding = torch.load(f'{root}/data/embeddings/{name.title()}_test_seq.pt')\n",
    "    return dataset, embedding, model"
   ]
  },
  {
   "cell_type": "code",
   "execution_count": 37,
   "metadata": {},
   "outputs": [],
   "source": [
    "dataset, emb, model = load_dataset_embedding_and_model(\"chen\")"
   ]
  },
  {
   "cell_type": "code",
   "execution_count": 38,
   "metadata": {},
   "outputs": [
    {
     "data": {
      "text/plain": [
       "(tensor([[-0.1569, -0.2963,  0.3784,  ...,  0.6169,  0.0592, -0.1477],\n",
       "         [-0.1646, -0.2887,  0.4140,  ...,  0.6036,  0.0710, -0.1320],\n",
       "         [-0.1469, -0.2836,  0.3796,  ...,  0.5760,  0.0463, -0.1025],\n",
       "         ...,\n",
       "         [-0.1437, -0.2978,  0.4012,  ...,  0.5922,  0.0646, -0.1144],\n",
       "         [-0.1730, -0.3039,  0.3847,  ...,  0.6103,  0.0581, -0.1427],\n",
       "         [-0.1354, -0.2911,  0.3731,  ...,  0.5813,  0.0492, -0.1030]],\n",
       "        device='cuda:0'),\n",
       " tensor([[1.0001],\n",
       "         [0.4801],\n",
       "         [0.4593],\n",
       "         ...,\n",
       "         [1.2028],\n",
       "         [0.1441],\n",
       "         [0.5663]]))"
      ]
     },
     "execution_count": 38,
     "metadata": {},
     "output_type": "execute_result"
    }
   ],
   "source": [
    "dataset.tensors"
   ]
  },
  {
   "cell_type": "code",
   "execution_count": 40,
   "metadata": {},
   "outputs": [
    {
     "data": {
      "text/plain": [
       "tensor([[0., 0., 0.,  ..., 0., 0., 0.],\n",
       "        [0., 0., 0.,  ..., 0., 0., 0.],\n",
       "        [0., 0., 0.,  ..., 0., 0., 0.],\n",
       "        ...,\n",
       "        [0., 0., 0.,  ..., 0., 0., 0.],\n",
       "        [0., 0., 0.,  ..., 0., 0., 0.],\n",
       "        [0., 0., 0.,  ..., 0., 0., 0.]], device='cuda:0')"
      ]
     },
     "execution_count": 40,
     "metadata": {},
     "output_type": "execute_result"
    }
   ],
   "source": [
    "emb-dataset.tensors[0]"
   ]
  },
  {
   "cell_type": "code",
   "execution_count": null,
   "metadata": {},
   "outputs": [],
   "source": []
  }
 ],
 "metadata": {
  "kernelspec": {
   "display_name": "base",
   "language": "python",
   "name": "python3"
  },
  "language_info": {
   "codemirror_mode": {
    "name": "ipython",
    "version": 3
   },
   "file_extension": ".py",
   "mimetype": "text/x-python",
   "name": "python",
   "nbconvert_exporter": "python",
   "pygments_lexer": "ipython3",
   "version": "3.11.9"
  }
 },
 "nbformat": 4,
 "nbformat_minor": 2
}
